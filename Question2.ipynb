{
 "cells": [
  {
   "cell_type": "code",
   "execution_count": 474,
   "metadata": {},
   "outputs": [],
   "source": [
    "import pandas as pd\n",
    "import numpy as np\n",
    "from datetime import datetime\n",
    "import matplotlib.pyplot as plt"
   ]
  },
  {
   "cell_type": "code",
   "execution_count": 475,
   "metadata": {},
   "outputs": [],
   "source": [
    "df=pd.read_excel(\"Worksheet in C  Users Shyamrag CP Desktop monexo Datascience_Assignment.xlsx\",sheet_name=\"delq_model\")"
   ]
  },
  {
   "cell_type": "code",
   "execution_count": 476,
   "metadata": {},
   "outputs": [
    {
     "data": {
      "text/html": [
       "<div>\n",
       "<style scoped>\n",
       "    .dataframe tbody tr th:only-of-type {\n",
       "        vertical-align: middle;\n",
       "    }\n",
       "\n",
       "    .dataframe tbody tr th {\n",
       "        vertical-align: top;\n",
       "    }\n",
       "\n",
       "    .dataframe thead th {\n",
       "        text-align: right;\n",
       "    }\n",
       "</style>\n",
       "<table border=\"1\" class=\"dataframe\">\n",
       "  <thead>\n",
       "    <tr style=\"text-align: right;\">\n",
       "      <th></th>\n",
       "      <th>Linkedin.is.Verified</th>\n",
       "      <th>Facebook.is.Verified</th>\n",
       "      <th>Date.of.Birth</th>\n",
       "      <th>Gender</th>\n",
       "      <th>Education.Level</th>\n",
       "      <th>No.of.dependents</th>\n",
       "      <th>Detailed.reason.by.Applicant</th>\n",
       "      <th>CRIF.S1.Score</th>\n",
       "      <th>Application.incomplete.date</th>\n",
       "      <th>Loan.Amount</th>\n",
       "      <th>...</th>\n",
       "      <th>Residential.status</th>\n",
       "      <th>UTM.Source</th>\n",
       "      <th>Created.Date</th>\n",
       "      <th>pymt_standing</th>\n",
       "      <th>Interest.Rate</th>\n",
       "      <th>Maturity.Date</th>\n",
       "      <th>Total.Amount.Paid</th>\n",
       "      <th>Principal.Advance.Remaining</th>\n",
       "      <th>Delinquent.Amount</th>\n",
       "      <th>Fee.Set</th>\n",
       "    </tr>\n",
       "  </thead>\n",
       "  <tbody>\n",
       "    <tr>\n",
       "      <th>0</th>\n",
       "      <td>NaN</td>\n",
       "      <td>NaN</td>\n",
       "      <td>1980-07-03</td>\n",
       "      <td>Male</td>\n",
       "      <td>Professional</td>\n",
       "      <td>1 to 2</td>\n",
       "      <td>I am working as Software Eng in a IT firm sinc...</td>\n",
       "      <td>753.0</td>\n",
       "      <td>2017-03-01</td>\n",
       "      <td>200000</td>\n",
       "      <td>...</td>\n",
       "      <td>Rented</td>\n",
       "      <td>NaN</td>\n",
       "      <td>2016-11-18</td>\n",
       "      <td>Active - Good Standing</td>\n",
       "      <td>16.41</td>\n",
       "      <td>2020-01-04</td>\n",
       "      <td>113840.00</td>\n",
       "      <td>123741.56</td>\n",
       "      <td>0.00</td>\n",
       "      <td>1-M3</td>\n",
       "    </tr>\n",
       "    <tr>\n",
       "      <th>1</th>\n",
       "      <td>NaN</td>\n",
       "      <td>NaN</td>\n",
       "      <td>1983-02-06</td>\n",
       "      <td>Male</td>\n",
       "      <td>Graduate</td>\n",
       "      <td>1 to 2</td>\n",
       "      <td>I am working as an analyst Programmer in a IT ...</td>\n",
       "      <td>NaN</td>\n",
       "      <td>2016-11-18</td>\n",
       "      <td>85000</td>\n",
       "      <td>...</td>\n",
       "      <td>Rented</td>\n",
       "      <td>NaN</td>\n",
       "      <td>2016-11-18</td>\n",
       "      <td>Active - Good Standing</td>\n",
       "      <td>19.50</td>\n",
       "      <td>2018-01-12</td>\n",
       "      <td>87209.00</td>\n",
       "      <td>16762.90</td>\n",
       "      <td>0.00</td>\n",
       "      <td>1-M5</td>\n",
       "    </tr>\n",
       "    <tr>\n",
       "      <th>2</th>\n",
       "      <td>NaN</td>\n",
       "      <td>NaN</td>\n",
       "      <td>1994-12-20</td>\n",
       "      <td>Male</td>\n",
       "      <td>Upto Hr Secondary</td>\n",
       "      <td>0</td>\n",
       "      <td>I have enough salary enough that i can take ca...</td>\n",
       "      <td>NaN</td>\n",
       "      <td>2016-11-19</td>\n",
       "      <td>50000</td>\n",
       "      <td>...</td>\n",
       "      <td>Self or spouse owned</td>\n",
       "      <td>NaN</td>\n",
       "      <td>2016-11-19</td>\n",
       "      <td>Active - Bad Standing</td>\n",
       "      <td>16.07</td>\n",
       "      <td>2018-01-12</td>\n",
       "      <td>31222.92</td>\n",
       "      <td>30407.81</td>\n",
       "      <td>19500.56</td>\n",
       "      <td>1-M3</td>\n",
       "    </tr>\n",
       "    <tr>\n",
       "      <th>3</th>\n",
       "      <td>NaN</td>\n",
       "      <td>NaN</td>\n",
       "      <td>1981-04-20</td>\n",
       "      <td>Male</td>\n",
       "      <td>Graduate</td>\n",
       "      <td>1 to 2</td>\n",
       "      <td>Hi team my name is Balaji Polam,from last mont...</td>\n",
       "      <td>NaN</td>\n",
       "      <td>2016-11-20</td>\n",
       "      <td>130000</td>\n",
       "      <td>...</td>\n",
       "      <td>Self or spouse owned</td>\n",
       "      <td>NaN</td>\n",
       "      <td>2016-11-20</td>\n",
       "      <td>Closed - Obligations met</td>\n",
       "      <td>24.23</td>\n",
       "      <td>2019-01-12</td>\n",
       "      <td>174238.16</td>\n",
       "      <td>0.00</td>\n",
       "      <td>0.00</td>\n",
       "      <td>1-M7</td>\n",
       "    </tr>\n",
       "    <tr>\n",
       "      <th>4</th>\n",
       "      <td>NaN</td>\n",
       "      <td>NaN</td>\n",
       "      <td>1977-05-29</td>\n",
       "      <td>Male</td>\n",
       "      <td>Post Graduate</td>\n",
       "      <td>3 to 5</td>\n",
       "      <td>I want to pay children's education fess and my...</td>\n",
       "      <td>NaN</td>\n",
       "      <td>2016-11-21</td>\n",
       "      <td>85000</td>\n",
       "      <td>...</td>\n",
       "      <td>Company Quarters</td>\n",
       "      <td>NaN</td>\n",
       "      <td>2016-11-21</td>\n",
       "      <td>Active - Good Standing</td>\n",
       "      <td>19.55</td>\n",
       "      <td>2019-01-12</td>\n",
       "      <td>63229.00</td>\n",
       "      <td>47146.24</td>\n",
       "      <td>0.00</td>\n",
       "      <td>1-M5</td>\n",
       "    </tr>\n",
       "  </tbody>\n",
       "</table>\n",
       "<p>5 rows × 37 columns</p>\n",
       "</div>"
      ],
      "text/plain": [
       "   Linkedin.is.Verified  Facebook.is.Verified Date.of.Birth Gender  \\\n",
       "0                   NaN                   NaN    1980-07-03   Male   \n",
       "1                   NaN                   NaN    1983-02-06   Male   \n",
       "2                   NaN                   NaN    1994-12-20   Male   \n",
       "3                   NaN                   NaN    1981-04-20   Male   \n",
       "4                   NaN                   NaN    1977-05-29   Male   \n",
       "\n",
       "     Education.Level No.of.dependents  \\\n",
       "0       Professional           1 to 2   \n",
       "1           Graduate           1 to 2   \n",
       "2  Upto Hr Secondary                0   \n",
       "3           Graduate           1 to 2   \n",
       "4      Post Graduate           3 to 5   \n",
       "\n",
       "                        Detailed.reason.by.Applicant  CRIF.S1.Score  \\\n",
       "0  I am working as Software Eng in a IT firm sinc...          753.0   \n",
       "1  I am working as an analyst Programmer in a IT ...            NaN   \n",
       "2  I have enough salary enough that i can take ca...            NaN   \n",
       "3  Hi team my name is Balaji Polam,from last mont...            NaN   \n",
       "4  I want to pay children's education fess and my...            NaN   \n",
       "\n",
       "  Application.incomplete.date  Loan.Amount   ...      Residential.status  \\\n",
       "0                  2017-03-01       200000   ...                  Rented   \n",
       "1                  2016-11-18        85000   ...                  Rented   \n",
       "2                  2016-11-19        50000   ...    Self or spouse owned   \n",
       "3                  2016-11-20       130000   ...    Self or spouse owned   \n",
       "4                  2016-11-21        85000   ...        Company Quarters   \n",
       "\n",
       "   UTM.Source  Created.Date             pymt_standing  Interest.Rate  \\\n",
       "0         NaN    2016-11-18    Active - Good Standing          16.41   \n",
       "1         NaN    2016-11-18    Active - Good Standing          19.50   \n",
       "2         NaN    2016-11-19     Active - Bad Standing          16.07   \n",
       "3         NaN    2016-11-20  Closed - Obligations met          24.23   \n",
       "4         NaN    2016-11-21    Active - Good Standing          19.55   \n",
       "\n",
       "  Maturity.Date  Total.Amount.Paid Principal.Advance.Remaining  \\\n",
       "0    2020-01-04          113840.00                   123741.56   \n",
       "1    2018-01-12           87209.00                    16762.90   \n",
       "2    2018-01-12           31222.92                    30407.81   \n",
       "3    2019-01-12          174238.16                        0.00   \n",
       "4    2019-01-12           63229.00                    47146.24   \n",
       "\n",
       "   Delinquent.Amount Fee.Set  \n",
       "0               0.00    1-M3  \n",
       "1               0.00    1-M5  \n",
       "2           19500.56    1-M3  \n",
       "3               0.00    1-M7  \n",
       "4               0.00    1-M5  \n",
       "\n",
       "[5 rows x 37 columns]"
      ]
     },
     "execution_count": 476,
     "metadata": {},
     "output_type": "execute_result"
    }
   ],
   "source": [
    "df.head()"
   ]
  },
  {
   "cell_type": "code",
   "execution_count": 477,
   "metadata": {},
   "outputs": [],
   "source": [
    "# Application ID -- Unique Identification.\n",
    "df[\"Application.ID\"].isna().sum() #3 NA values in Application ID. removing them from our data.\n",
    "df=df.loc[df[\"Application.ID\"].isna()==False,]"
   ]
  },
  {
   "cell_type": "code",
   "execution_count": 478,
   "metadata": {},
   "outputs": [
    {
     "data": {
      "text/plain": [
       "0.0    1098\n",
       "1.0     889\n",
       "Name: Socialmedia_verified, dtype: int64"
      ]
     },
     "execution_count": 478,
     "metadata": {},
     "output_type": "execute_result"
    }
   ],
   "source": [
    "# Column  Linkedin.is.Verified/Facebook.is.Verified (Socila media)\n",
    "# Will combine these two variables as social media verified\n",
    "df.loc[df[\"Linkedin.is.Verified\"]==1,\"Socialmedia_verified\"] = 1\n",
    "df.loc[df[\"Facebook.is.Verified\"]==1,\"Socialmedia_verified\"] = 1\n",
    "df.loc[df[\"Socialmedia_verified\"]!=1,\"Socialmedia_verified\"] = 0\n",
    "pd.Series(df.Socialmedia_verified).value_counts()"
   ]
  },
  {
   "cell_type": "code",
   "execution_count": 479,
   "metadata": {},
   "outputs": [],
   "source": [
    "# Function for count checking\n",
    "def Frequency_count(column):\n",
    "    column = pd.Series(column).value_counts()\n",
    "    return column"
   ]
  },
  {
   "cell_type": "code",
   "execution_count": 480,
   "metadata": {},
   "outputs": [
    {
     "data": {
      "text/html": [
       "<div>\n",
       "<style scoped>\n",
       "    .dataframe tbody tr th:only-of-type {\n",
       "        vertical-align: middle;\n",
       "    }\n",
       "\n",
       "    .dataframe tbody tr th {\n",
       "        vertical-align: top;\n",
       "    }\n",
       "\n",
       "    .dataframe thead th {\n",
       "        text-align: right;\n",
       "    }\n",
       "</style>\n",
       "<table border=\"1\" class=\"dataframe\">\n",
       "  <thead>\n",
       "    <tr style=\"text-align: right;\">\n",
       "      <th></th>\n",
       "      <th>Linkedin.is.Verified</th>\n",
       "      <th>Facebook.is.Verified</th>\n",
       "      <th>Date.of.Birth</th>\n",
       "      <th>Gender</th>\n",
       "      <th>Education.Level</th>\n",
       "      <th>No.of.dependents</th>\n",
       "      <th>Detailed.reason.by.Applicant</th>\n",
       "      <th>CRIF.S1.Score</th>\n",
       "      <th>Application.incomplete.date</th>\n",
       "      <th>Loan.Amount</th>\n",
       "      <th>...</th>\n",
       "      <th>pymt_standing</th>\n",
       "      <th>Interest.Rate</th>\n",
       "      <th>Maturity.Date</th>\n",
       "      <th>Total.Amount.Paid</th>\n",
       "      <th>Principal.Advance.Remaining</th>\n",
       "      <th>Delinquent.Amount</th>\n",
       "      <th>Fee.Set</th>\n",
       "      <th>Socialmedia_verified</th>\n",
       "      <th>year</th>\n",
       "      <th>Age</th>\n",
       "    </tr>\n",
       "  </thead>\n",
       "  <tbody>\n",
       "    <tr>\n",
       "      <th>0</th>\n",
       "      <td>NaN</td>\n",
       "      <td>NaN</td>\n",
       "      <td>1980-07-03</td>\n",
       "      <td>Male</td>\n",
       "      <td>Professional</td>\n",
       "      <td>1 to 2</td>\n",
       "      <td>I am working as Software Eng in a IT firm sinc...</td>\n",
       "      <td>753.0</td>\n",
       "      <td>2017-03-01</td>\n",
       "      <td>200000</td>\n",
       "      <td>...</td>\n",
       "      <td>Active - Good Standing</td>\n",
       "      <td>16.41</td>\n",
       "      <td>2020-01-04</td>\n",
       "      <td>113840.00</td>\n",
       "      <td>123741.56</td>\n",
       "      <td>0.00</td>\n",
       "      <td>1-M3</td>\n",
       "      <td>0.0</td>\n",
       "      <td>1980</td>\n",
       "      <td>38</td>\n",
       "    </tr>\n",
       "    <tr>\n",
       "      <th>1</th>\n",
       "      <td>NaN</td>\n",
       "      <td>NaN</td>\n",
       "      <td>1983-02-06</td>\n",
       "      <td>Male</td>\n",
       "      <td>Graduate</td>\n",
       "      <td>1 to 2</td>\n",
       "      <td>I am working as an analyst Programmer in a IT ...</td>\n",
       "      <td>NaN</td>\n",
       "      <td>2016-11-18</td>\n",
       "      <td>85000</td>\n",
       "      <td>...</td>\n",
       "      <td>Active - Good Standing</td>\n",
       "      <td>19.50</td>\n",
       "      <td>2018-01-12</td>\n",
       "      <td>87209.00</td>\n",
       "      <td>16762.90</td>\n",
       "      <td>0.00</td>\n",
       "      <td>1-M5</td>\n",
       "      <td>0.0</td>\n",
       "      <td>1983</td>\n",
       "      <td>35</td>\n",
       "    </tr>\n",
       "    <tr>\n",
       "      <th>2</th>\n",
       "      <td>NaN</td>\n",
       "      <td>NaN</td>\n",
       "      <td>1994-12-20</td>\n",
       "      <td>Male</td>\n",
       "      <td>Upto Hr Secondary</td>\n",
       "      <td>0</td>\n",
       "      <td>I have enough salary enough that i can take ca...</td>\n",
       "      <td>NaN</td>\n",
       "      <td>2016-11-19</td>\n",
       "      <td>50000</td>\n",
       "      <td>...</td>\n",
       "      <td>Active - Bad Standing</td>\n",
       "      <td>16.07</td>\n",
       "      <td>2018-01-12</td>\n",
       "      <td>31222.92</td>\n",
       "      <td>30407.81</td>\n",
       "      <td>19500.56</td>\n",
       "      <td>1-M3</td>\n",
       "      <td>0.0</td>\n",
       "      <td>1994</td>\n",
       "      <td>24</td>\n",
       "    </tr>\n",
       "    <tr>\n",
       "      <th>3</th>\n",
       "      <td>NaN</td>\n",
       "      <td>NaN</td>\n",
       "      <td>1981-04-20</td>\n",
       "      <td>Male</td>\n",
       "      <td>Graduate</td>\n",
       "      <td>1 to 2</td>\n",
       "      <td>Hi team my name is Balaji Polam,from last mont...</td>\n",
       "      <td>NaN</td>\n",
       "      <td>2016-11-20</td>\n",
       "      <td>130000</td>\n",
       "      <td>...</td>\n",
       "      <td>Closed - Obligations met</td>\n",
       "      <td>24.23</td>\n",
       "      <td>2019-01-12</td>\n",
       "      <td>174238.16</td>\n",
       "      <td>0.00</td>\n",
       "      <td>0.00</td>\n",
       "      <td>1-M7</td>\n",
       "      <td>0.0</td>\n",
       "      <td>1981</td>\n",
       "      <td>37</td>\n",
       "    </tr>\n",
       "    <tr>\n",
       "      <th>4</th>\n",
       "      <td>NaN</td>\n",
       "      <td>NaN</td>\n",
       "      <td>1977-05-29</td>\n",
       "      <td>Male</td>\n",
       "      <td>Post Graduate</td>\n",
       "      <td>3 to 5</td>\n",
       "      <td>I want to pay children's education fess and my...</td>\n",
       "      <td>NaN</td>\n",
       "      <td>2016-11-21</td>\n",
       "      <td>85000</td>\n",
       "      <td>...</td>\n",
       "      <td>Active - Good Standing</td>\n",
       "      <td>19.55</td>\n",
       "      <td>2019-01-12</td>\n",
       "      <td>63229.00</td>\n",
       "      <td>47146.24</td>\n",
       "      <td>0.00</td>\n",
       "      <td>1-M5</td>\n",
       "      <td>0.0</td>\n",
       "      <td>1977</td>\n",
       "      <td>41</td>\n",
       "    </tr>\n",
       "  </tbody>\n",
       "</table>\n",
       "<p>5 rows × 40 columns</p>\n",
       "</div>"
      ],
      "text/plain": [
       "   Linkedin.is.Verified  Facebook.is.Verified Date.of.Birth Gender  \\\n",
       "0                   NaN                   NaN    1980-07-03   Male   \n",
       "1                   NaN                   NaN    1983-02-06   Male   \n",
       "2                   NaN                   NaN    1994-12-20   Male   \n",
       "3                   NaN                   NaN    1981-04-20   Male   \n",
       "4                   NaN                   NaN    1977-05-29   Male   \n",
       "\n",
       "     Education.Level No.of.dependents  \\\n",
       "0       Professional           1 to 2   \n",
       "1           Graduate           1 to 2   \n",
       "2  Upto Hr Secondary                0   \n",
       "3           Graduate           1 to 2   \n",
       "4      Post Graduate           3 to 5   \n",
       "\n",
       "                        Detailed.reason.by.Applicant  CRIF.S1.Score  \\\n",
       "0  I am working as Software Eng in a IT firm sinc...          753.0   \n",
       "1  I am working as an analyst Programmer in a IT ...            NaN   \n",
       "2  I have enough salary enough that i can take ca...            NaN   \n",
       "3  Hi team my name is Balaji Polam,from last mont...            NaN   \n",
       "4  I want to pay children's education fess and my...            NaN   \n",
       "\n",
       "  Application.incomplete.date  Loan.Amount ...             pymt_standing  \\\n",
       "0                  2017-03-01       200000 ...    Active - Good Standing   \n",
       "1                  2016-11-18        85000 ...    Active - Good Standing   \n",
       "2                  2016-11-19        50000 ...     Active - Bad Standing   \n",
       "3                  2016-11-20       130000 ...  Closed - Obligations met   \n",
       "4                  2016-11-21        85000 ...    Active - Good Standing   \n",
       "\n",
       "   Interest.Rate  Maturity.Date Total.Amount.Paid  \\\n",
       "0          16.41     2020-01-04         113840.00   \n",
       "1          19.50     2018-01-12          87209.00   \n",
       "2          16.07     2018-01-12          31222.92   \n",
       "3          24.23     2019-01-12         174238.16   \n",
       "4          19.55     2019-01-12          63229.00   \n",
       "\n",
       "   Principal.Advance.Remaining Delinquent.Amount  Fee.Set  \\\n",
       "0                    123741.56              0.00     1-M3   \n",
       "1                     16762.90              0.00     1-M5   \n",
       "2                     30407.81          19500.56     1-M3   \n",
       "3                         0.00              0.00     1-M7   \n",
       "4                     47146.24              0.00     1-M5   \n",
       "\n",
       "  Socialmedia_verified  year Age  \n",
       "0                  0.0  1980  38  \n",
       "1                  0.0  1983  35  \n",
       "2                  0.0  1994  24  \n",
       "3                  0.0  1981  37  \n",
       "4                  0.0  1977  41  \n",
       "\n",
       "[5 rows x 40 columns]"
      ]
     },
     "execution_count": 480,
     "metadata": {},
     "output_type": "execute_result"
    }
   ],
   "source": [
    "# Date of Birth.\n",
    "df[\"Date.of.Birth\"].isna().sum() ## No missing values\n",
    "df[\"year\"] = [x.year for x in df[\"Date.of.Birth\"]]\n",
    "df[\"Age\"] = 2018-df[\"year\"]\n",
    "df.head()\n"
   ]
  },
  {
   "cell_type": "code",
   "execution_count": 481,
   "metadata": {},
   "outputs": [
    {
     "data": {
      "text/plain": [
       "Male      1690\n",
       "Female     297\n",
       "Name: Gender, dtype: int64"
      ]
     },
     "execution_count": 481,
     "metadata": {},
     "output_type": "execute_result"
    }
   ],
   "source": [
    "# Gender\n",
    "pd.Series(df[\"Gender\"]).value_counts()  ## Male is more in the data Set."
   ]
  },
  {
   "cell_type": "code",
   "execution_count": 482,
   "metadata": {},
   "outputs": [
    {
     "data": {
      "text/plain": [
       "Graduate             1217\n",
       "Post Graduate         318\n",
       "Diploma               179\n",
       "Upto Hr Secondary     163\n",
       "Professional          110\n",
       "Name: Education.Level, dtype: int64"
      ]
     },
     "execution_count": 482,
     "metadata": {},
     "output_type": "execute_result"
    }
   ],
   "source": [
    "# Education.Level\n",
    "df[\"Education.Level\"].isna().sum()  ## No NA values.\n",
    "pd.Series(df[\"Education.Level\"]).value_counts()   ## Graduates are more in  the data set."
   ]
  },
  {
   "cell_type": "code",
   "execution_count": 483,
   "metadata": {},
   "outputs": [
    {
     "data": {
      "text/plain": [
       "0"
      ]
     },
     "execution_count": 483,
     "metadata": {},
     "output_type": "execute_result"
    }
   ],
   "source": [
    "# No.of.dependents\n",
    "Frequency_count(df[\"No.of.dependents\"]) # Dependency 1 to 2 is more, \n",
    "df[\"No.of.dependents\"].isna().sum()  # No NA Value\n"
   ]
  },
  {
   "cell_type": "code",
   "execution_count": 484,
   "metadata": {},
   "outputs": [
    {
     "data": {
      "text/plain": [
       "Debt Consolidation    478\n",
       "Home renovation       398\n",
       "Household General     366\n",
       "Wedding               259\n",
       "Medical               232\n",
       "Education             118\n",
       "Business               97\n",
       "Holiday                39\n",
       "Name: CL.Purpose..Name, dtype: int64"
      ]
     },
     "execution_count": 484,
     "metadata": {},
     "output_type": "execute_result"
    }
   ],
   "source": [
    "# Detailed.reason.by.Applicant\n",
    "df[\"Detailed.reason.by.Applicant\"].head(20)\n",
    "# is complete open data. So it good to do sentimental Analysis on this separatly.\n",
    "# How ever we have one more variable capturing purpose -- CL.Purpose..Name -- which is a categorical.\n",
    "df[\"CL.Purpose..Name\"].isna().sum()   # NA value\n",
    "Frequency_count(df[\"CL.Purpose..Name\"])  ## Major reasons are dept consolidation."
   ]
  },
  {
   "cell_type": "code",
   "execution_count": 485,
   "metadata": {},
   "outputs": [],
   "source": [
    "# CRIF.S1.Score -- credit score\n",
    "df[\"CRIF.S1.Score\"].isna().sum()  ## 185 NA values.\n",
    "# Frequency_count(df[\"CRIF.S1.Score\"])\n",
    "# pd.pivot_table(data=df,index=\"pymt_standing\",values=\"CRIF.S1.Score\",aggfunc=\"median\")\n",
    "# Substitute median value for NAs by segmenting with pymt_standing.\n",
    "df.loc[df[\"CRIF.S1.Score\"].isna() & list(df[\"pymt_standing\"]==\"Active - Bad Standing\"),\"CRIF.S1.Score\"] = 692.5\n",
    "df.loc[df[\"CRIF.S1.Score\"].isna() & list(df[\"pymt_standing\"]==\"Active - Active - Good Standing\"),\"CRIF.S1.Score\"] = 735.0\n",
    "df.loc[df[\"CRIF.S1.Score\"].isna() & list(df[\"pymt_standing\"]==\"Active - Closed - Obligations met\"),\"CRIF.S1.Score\"] = 710.0\n",
    "\n",
    "df.loc[df[\"CRIF.S1.Score\"].isna(),\"CRIF.S1.Score\"] =711\n",
    "\n",
    "# pd.pivot_table(data=df,index=\"pymt_standing\",values=\"CRIF.S1.Score\",aggfunc=\"count\")\n",
    "\n",
    "# df[\"CRIF.S1.Score\"].head()\n",
    "# df[\"CRIF.S1.Score\"].isna().sum()\n",
    "# type(df[\"CRIF.S1.Score\"])"
   ]
  },
  {
   "cell_type": "code",
   "execution_count": 486,
   "metadata": {},
   "outputs": [
    {
     "data": {
      "text/plain": [
       "count      1987.000000\n",
       "mean     108404.630096\n",
       "std       64730.141956\n",
       "min       50000.000000\n",
       "25%       62000.000000\n",
       "50%       95000.000000\n",
       "75%      125000.000000\n",
       "max      500000.000000\n",
       "Name: Loan.Amount, dtype: float64"
      ]
     },
     "execution_count": 486,
     "metadata": {},
     "output_type": "execute_result"
    },
    {
     "data": {
      "image/png": "[encoded data removed]",
      "text/plain": [
       "<matplotlib.figure.Figure at 0x1f9ef8677b8>"
      ]
     },
     "metadata": {},
     "output_type": "display_data"
    }
   ],
   "source": [
    "# Loan.Amount\n",
    "df[\"Loan.Amount\"].isna().sum() # No NA Values.\n",
    "plt.boxplot(df[\"Loan.Amount\"])\n",
    "df[\"Loan.Amount\"].describe()\n",
    "# Seems we do have outliers. But Loan amount is the important info for predicting default. -- leaving unaltered as of now."
   ]
  },
  {
   "cell_type": "code",
   "execution_count": 487,
   "metadata": {},
   "outputs": [
    {
     "data": {
      "text/plain": [
       "count     1987.000000\n",
       "mean      4950.311812\n",
       "std       2605.235582\n",
       "min       2034.220000\n",
       "25%       3437.595000\n",
       "50%       4476.040000\n",
       "75%       5412.285000\n",
       "max      46816.930000\n",
       "Name: Payment.Amount, dtype: float64"
      ]
     },
     "execution_count": 487,
     "metadata": {},
     "output_type": "execute_result"
    },
    {
     "data": {
      "image/png": "[encoded data removed]",
      "text/plain": [
       "<matplotlib.figure.Figure at 0x1f9ef830f28>"
      ]
     },
     "metadata": {},
     "output_type": "display_data"
    }
   ],
   "source": [
    "# Payment.Amount\n",
    "df[\"Payment.Amount\"].isna().sum() # no NA values.\n",
    "plt.boxplot(df[\"Payment.Amount\"])\n",
    "df[\"Payment.Amount\"].describe()\n",
    "# assuming Payment amount and Loan amount are correlated. payment amount also depends on the term-tenure of the loan."
   ]
  },
  {
   "cell_type": "code",
   "execution_count": 488,
   "metadata": {},
   "outputs": [
    {
     "data": {
      "text/plain": [
       "count      1987.000000\n",
       "mean      10098.414373\n",
       "std       13326.177848\n",
       "min           0.000000\n",
       "25%        3089.430000\n",
       "50%        6101.740000\n",
       "75%       12650.735000\n",
       "max      155104.730000\n",
       "Name: Interest.Paid, dtype: float64"
      ]
     },
     "execution_count": 488,
     "metadata": {},
     "output_type": "execute_result"
    },
    {
     "data": {
      "image/png": "[encoded data removed]",
      "text/plain": [
       "<matplotlib.figure.Figure at 0x1f9eba40c50>"
      ]
     },
     "metadata": {},
     "output_type": "display_data"
    }
   ],
   "source": [
    "# Interest.Paid\n",
    "df[\"Interest.Paid\"].isna().sum() # No NA Values.\n",
    "plt.boxplot(df[\"Interest.Paid\"])\n",
    "df[\"Interest.Paid\"].describe()\n",
    "# Assuming correlated with Loan amount."
   ]
  },
  {
   "cell_type": "code",
   "execution_count": 489,
   "metadata": {},
   "outputs": [
    {
     "data": {
      "text/plain": [
       "count      1987.000000\n",
       "mean      26553.576085\n",
       "std       39666.327828\n",
       "min           0.000000\n",
       "25%        5575.935000\n",
       "50%       13529.870000\n",
       "75%       30228.665000\n",
       "max      455000.000000\n",
       "Name: Principal.Advance.Paid, dtype: float64"
      ]
     },
     "execution_count": 489,
     "metadata": {},
     "output_type": "execute_result"
    },
    {
     "data": {
      "image/png": "[encoded data removed]",
      "text/plain": [
       "<matplotlib.figure.Figure at 0x1f9ed41d4e0>"
      ]
     },
     "metadata": {},
     "output_type": "display_data"
    }
   ],
   "source": [
    "# Principal.Advance.Paid -- Principal component paid till date\n",
    "df[\"Principal.Advance.Paid\"].isna().sum()  # No NA Values.\n",
    "plt.boxplot(df[\"Principal.Advance.Paid\"])\n",
    "df[\"Principal.Advance.Paid\"].describe()\n",
    "#Assuming a correlation with Loan amount."
   ]
  },
  {
   "cell_type": "code",
   "execution_count": 490,
   "metadata": {},
   "outputs": [],
   "source": [
    "# EPFO.Verification.Status\n",
    "df[\"EPFO.Verification.Status\"].isna().sum()  # ALL are NA.\n",
    "Frequency_count(\"EPFO.Verification.Status\")\n",
    "# Since all values are NA not required.\n",
    "df.drop(\"EPFO.Verification.Status\",axis=1,inplace=True)"
   ]
  },
  {
   "cell_type": "code",
   "execution_count": 491,
   "metadata": {},
   "outputs": [
    {
     "data": {
      "text/plain": [
       "Single      1011\n",
       "Married      968\n",
       "Divorcee       5\n",
       "Widower        3\n",
       "Name: Marital.status, dtype: int64"
      ]
     },
     "execution_count": 491,
     "metadata": {},
     "output_type": "execute_result"
    }
   ],
   "source": [
    "# Marital.status\n",
    "df[\"Marital.status\"].isna().sum() #NO NA values.\n",
    "Frequency_count(df[\"Marital.status\"])  # Most Applicants are single and Married"
   ]
  },
  {
   "cell_type": "code",
   "execution_count": 492,
   "metadata": {},
   "outputs": [
    {
     "data": {
      "text/plain": [
       "3.0     244\n",
       "4.0     227\n",
       "5.0     212\n",
       "2.0     189\n",
       "6.0     177\n",
       "7.0     149\n",
       "8.0     124\n",
       "10.0    124\n",
       "1.0      84\n",
       "9.0      75\n",
       "12.0     67\n",
       "11.0     51\n",
       "15.0     50\n",
       "14.0     48\n",
       "13.0     41\n",
       "0.0      32\n",
       "20.0     23\n",
       "17.0     15\n",
       "18.0     15\n",
       "16.0     14\n",
       "25.0      6\n",
       "26.0      5\n",
       "21.0      3\n",
       "22.0      3\n",
       "24.0      2\n",
       "27.0      2\n",
       "30.0      2\n",
       "23.0      2\n",
       "19.0      1\n",
       "Name: Total.years.of.experience.in.Employment., dtype: int64"
      ]
     },
     "execution_count": 492,
     "metadata": {},
     "output_type": "execute_result"
    }
   ],
   "source": [
    "# Total.years.of.experience.in.Employment.\n",
    "df[\"Total.years.of.experience.in.Employment.\"].isna().sum()\n",
    "Frequency_count(df[\"Total.years.of.experience.in.Employment.\"])"
   ]
  },
  {
   "cell_type": "code",
   "execution_count": 493,
   "metadata": {},
   "outputs": [
    {
     "data": {
      "text/plain": [
       "count    1987.000000\n",
       "mean       28.711626\n",
       "std         9.127158\n",
       "min         6.000000\n",
       "25%        24.000000\n",
       "50%        36.000000\n",
       "75%        36.000000\n",
       "max        36.000000\n",
       "Name: Term, dtype: float64"
      ]
     },
     "execution_count": 493,
     "metadata": {},
     "output_type": "execute_result"
    },
    {
     "data": {
      "image/png": "[encoded data removed]",
      "text/plain": [
       "<matplotlib.figure.Figure at 0x1f9edc5c668>"
      ]
     },
     "metadata": {},
     "output_type": "display_data"
    }
   ],
   "source": [
    "# Term\n",
    "df[\"Term\"].isna().sum() # NO NA values.\n",
    "plt.boxplot(df[\"Term\"])\n",
    "df[\"Term\"].describe()"
   ]
  },
  {
   "cell_type": "code",
   "execution_count": 494,
   "metadata": {},
   "outputs": [
    {
     "data": {
      "text/plain": [
       "0"
      ]
     },
     "execution_count": 494,
     "metadata": {},
     "output_type": "execute_result"
    }
   ],
   "source": [
    "# First.Payment.Date.y\n",
    "df[\"First.Payment.Date.y\"].isna().sum() # No nA values."
   ]
  },
  {
   "cell_type": "code",
   "execution_count": 495,
   "metadata": {},
   "outputs": [
    {
     "data": {
      "text/plain": [
       "count      1987.000000\n",
       "mean      31870.766694\n",
       "std       24726.008947\n",
       "min        2676.060000\n",
       "25%       13443.235000\n",
       "50%       28054.640000\n",
       "75%       40646.070000\n",
       "max      260773.760000\n",
       "Name: Estimated.Interest, dtype: float64"
      ]
     },
     "execution_count": 495,
     "metadata": {},
     "output_type": "execute_result"
    },
    {
     "data": {
      "image/png": "[encoded data removed]",
      "text/plain": [
       "<matplotlib.figure.Figure at 0x1f9ec338dd8>"
      ]
     },
     "metadata": {},
     "output_type": "display_data"
    }
   ],
   "source": [
    "# Estimated.Interest\n",
    "df[\"Estimated.Interest\"].isna().sum() # No nA Values.\n",
    "plt.boxplot(df[\"Estimated.Interest\"])\n",
    "df[\"Estimated.Interest\"].describe()\n",
    "# Assuming correlated with Loan Amount."
   ]
  },
  {
   "cell_type": "code",
   "execution_count": 496,
   "metadata": {},
   "outputs": [],
   "source": [
    "# Last.Payment.Date\n",
    "df[\"Last.Payment.Date\"].isna().sum() # NA values.\n",
    "pd.pivot_table(data=df.loc[df[\"Last.Payment.Date\"].isna(),],index=\"pymt_standing\",values=\"Application.ID\",aggfunc=\"count\")\n",
    "# Required attention here I don't think last payment is important, He/she can pay less amount as well. So dropping it.\n",
    "df.drop(\"Last.Payment.Date\",axis=1,inplace=True)"
   ]
  },
  {
   "cell_type": "code",
   "execution_count": 497,
   "metadata": {},
   "outputs": [],
   "source": [
    "# Bank.Transactions.Fetched\n",
    "df[\"Bank.Transactions.Fetched\"].isna().sum()\n",
    "Frequency_count(df[\"Bank.Transactions.Fetched\"])\n",
    "# All values are zeroes and this variable is not required.\n",
    "df.drop(\"Bank.Transactions.Fetched\",axis=1,inplace=True)"
   ]
  },
  {
   "cell_type": "code",
   "execution_count": 498,
   "metadata": {},
   "outputs": [
    {
     "data": {
      "text/html": [
       "<div>\n",
       "<style scoped>\n",
       "    .dataframe tbody tr th:only-of-type {\n",
       "        vertical-align: middle;\n",
       "    }\n",
       "\n",
       "    .dataframe tbody tr th {\n",
       "        vertical-align: top;\n",
       "    }\n",
       "\n",
       "    .dataframe thead th {\n",
       "        text-align: right;\n",
       "    }\n",
       "</style>\n",
       "<table border=\"1\" class=\"dataframe\">\n",
       "  <thead>\n",
       "    <tr style=\"text-align: right;\">\n",
       "      <th></th>\n",
       "      <th>Debt.service.ratio</th>\n",
       "    </tr>\n",
       "    <tr>\n",
       "      <th>pymt_standing</th>\n",
       "      <th></th>\n",
       "    </tr>\n",
       "  </thead>\n",
       "  <tbody>\n",
       "    <tr>\n",
       "      <th>Active - Bad Standing</th>\n",
       "      <td>304</td>\n",
       "    </tr>\n",
       "    <tr>\n",
       "      <th>Active - Good Standing</th>\n",
       "      <td>1513</td>\n",
       "    </tr>\n",
       "    <tr>\n",
       "      <th>Closed - Obligations met</th>\n",
       "      <td>170</td>\n",
       "    </tr>\n",
       "  </tbody>\n",
       "</table>\n",
       "</div>"
      ],
      "text/plain": [
       "                          Debt.service.ratio\n",
       "pymt_standing                               \n",
       "Active - Bad Standing                    304\n",
       "Active - Good Standing                  1513\n",
       "Closed - Obligations met                 170"
      ]
     },
     "execution_count": 498,
     "metadata": {},
     "output_type": "execute_result"
    }
   ],
   "source": [
    "# Debt.service.ratio\n",
    "df[\"Debt.service.ratio\"].isna().sum()  ## We have NA value. Substitute it with median based on target variable.\n",
    "Frequency_count(df[\"Debt.service.ratio\"])\n",
    "pd.pivot_table(data=df,index=\"pymt_standing\",values=\"Debt.service.ratio\",aggfunc=\"median\")\n",
    "# Substitution\n",
    "df.loc[df[\"Debt.service.ratio\"].isna() & list(df[\"pymt_standing\"]==\"Active - Bad Standing\"),\"Debt.service.ratio\"] = 40.76\n",
    "df.loc[df[\"Debt.service.ratio\"].isna() & list(df[\"pymt_standing\"]==\"Active - Active - Good Standing\"),\"Debt.service.ratio\"] = 43.55\n",
    "df.loc[df[\"Debt.service.ratio\"].isna() & list(df[\"pymt_standing\"]==\"Active - Closed - Obligations met\"),\"Debt.service.ratio\"] = 40.46\n",
    "\n",
    "df.loc[df[\"Debt.service.ratio\"].isna(),\"Debt.service.ratio\"] = 41.5\n",
    "\n",
    "pd.pivot_table(data=df,index=\"pymt_standing\",values=\"Debt.service.ratio\",aggfunc=\"count\")\n"
   ]
  },
  {
   "cell_type": "code",
   "execution_count": 499,
   "metadata": {},
   "outputs": [
    {
     "data": {
      "text/plain": [
       "count      1987.000000\n",
       "mean      30345.077252\n",
       "std       26822.933651\n",
       "min       15000.000000\n",
       "25%       18081.500000\n",
       "50%       22950.000000\n",
       "75%       31500.000000\n",
       "max      514223.000000\n",
       "Name: Salary.Income.current.month, dtype: float64"
      ]
     },
     "execution_count": 499,
     "metadata": {},
     "output_type": "execute_result"
    },
    {
     "data": {
      "image/png": "[encoded data removed]",
      "text/plain": [
       "<matplotlib.figure.Figure at 0x1f9ef846198>"
      ]
     },
     "metadata": {},
     "output_type": "display_data"
    }
   ],
   "source": [
    "# Salary.Income.current.month\n",
    "df[\"Salary.Income.current.month\"].isna().sum()  # No NA values\n",
    "plt.boxplot(df[\"Salary.Income.current.month\"])\n",
    "df[\"Salary.Income.current.month\"].describe()\n",
    "# Seems we have outliers, assuming its also having a good correlation to Loan amount."
   ]
  },
  {
   "cell_type": "code",
   "execution_count": 500,
   "metadata": {},
   "outputs": [
    {
     "data": {
      "text/plain": [
       "Rented                               1061\n",
       "Staying with Parents                  474\n",
       "Self or spouse owned                  335\n",
       "Company Quarters                       48\n",
       "Paying Guest                           42\n",
       "Shared Accommodation                   19\n",
       "Hostel                                  6\n",
       "Paying Guest/Shared Accommodation       2\n",
       "Name: Residential.status, dtype: int64"
      ]
     },
     "execution_count": 500,
     "metadata": {},
     "output_type": "execute_result"
    }
   ],
   "source": [
    "# Residential.status\n",
    "df[\"Residential.status\"].isna().sum()# No NA values.\n",
    "Frequency_count(df[\"Residential.status\"])  ## most people are living in rented House."
   ]
  },
  {
   "cell_type": "code",
   "execution_count": 501,
   "metadata": {},
   "outputs": [
    {
     "data": {
      "text/html": [
       "<div>\n",
       "<style scoped>\n",
       "    .dataframe tbody tr th:only-of-type {\n",
       "        vertical-align: middle;\n",
       "    }\n",
       "\n",
       "    .dataframe tbody tr th {\n",
       "        vertical-align: top;\n",
       "    }\n",
       "\n",
       "    .dataframe thead tr th {\n",
       "        text-align: left;\n",
       "    }\n",
       "\n",
       "    .dataframe thead tr:last-of-type th {\n",
       "        text-align: right;\n",
       "    }\n",
       "</style>\n",
       "<table border=\"1\" class=\"dataframe\">\n",
       "  <thead>\n",
       "    <tr>\n",
       "      <th></th>\n",
       "      <th colspan=\"5\" halign=\"left\">Application.ID</th>\n",
       "    </tr>\n",
       "    <tr>\n",
       "      <th>UTM.Source</th>\n",
       "      <th>Facebook</th>\n",
       "      <th>Myuniverse_loan</th>\n",
       "      <th>facebook</th>\n",
       "      <th>gmail</th>\n",
       "      <th>google</th>\n",
       "    </tr>\n",
       "    <tr>\n",
       "      <th>pymt_standing</th>\n",
       "      <th></th>\n",
       "      <th></th>\n",
       "      <th></th>\n",
       "      <th></th>\n",
       "      <th></th>\n",
       "    </tr>\n",
       "  </thead>\n",
       "  <tbody>\n",
       "    <tr>\n",
       "      <th>Active - Bad Standing</th>\n",
       "      <td>49.0</td>\n",
       "      <td>1.0</td>\n",
       "      <td>10.0</td>\n",
       "      <td>NaN</td>\n",
       "      <td>85.0</td>\n",
       "    </tr>\n",
       "    <tr>\n",
       "      <th>Active - Good Standing</th>\n",
       "      <td>383.0</td>\n",
       "      <td>1.0</td>\n",
       "      <td>24.0</td>\n",
       "      <td>6.0</td>\n",
       "      <td>429.0</td>\n",
       "    </tr>\n",
       "    <tr>\n",
       "      <th>Closed - Obligations met</th>\n",
       "      <td>22.0</td>\n",
       "      <td>NaN</td>\n",
       "      <td>1.0</td>\n",
       "      <td>NaN</td>\n",
       "      <td>39.0</td>\n",
       "    </tr>\n",
       "  </tbody>\n",
       "</table>\n",
       "</div>"
      ],
      "text/plain": [
       "                         Application.ID                                      \n",
       "UTM.Source                     Facebook Myuniverse_loan facebook gmail google\n",
       "pymt_standing                                                                \n",
       "Active - Bad Standing              49.0             1.0     10.0   NaN   85.0\n",
       "Active - Good Standing            383.0             1.0     24.0   6.0  429.0\n",
       "Closed - Obligations met           22.0             NaN      1.0   NaN   39.0"
      ]
     },
     "execution_count": 501,
     "metadata": {},
     "output_type": "execute_result"
    }
   ],
   "source": [
    "# UTM.Source accquisition channel\n",
    "df[\"UTM.Source\"].isna().sum() # NA values.\n",
    "pd.pivot_table(data=df[[\"pymt_standing\",\"UTM.Source\",\"Application.ID\"]],index=\"pymt_standing\",columns=\"UTM.Source\",aggfunc=\"count\")\n",
    "# Most customers are through facebook and Google. they are almost equal. less information gain. So will not be including in the predictive model.\n"
   ]
  },
  {
   "cell_type": "code",
   "execution_count": 502,
   "metadata": {},
   "outputs": [
    {
     "data": {
      "text/plain": [
       "count    1987.000000\n",
       "mean       20.564238\n",
       "std         3.309047\n",
       "min        13.500000\n",
       "25%        18.270000\n",
       "50%        19.840000\n",
       "75%        21.910000\n",
       "max        30.810000\n",
       "Name: Interest.Rate, dtype: float64"
      ]
     },
     "execution_count": 502,
     "metadata": {},
     "output_type": "execute_result"
    },
    {
     "data": {
      "image/png": "[encoded data removed]",
      "text/plain": [
       "<matplotlib.figure.Figure at 0x1f9ed436eb8>"
      ]
     },
     "metadata": {},
     "output_type": "display_data"
    }
   ],
   "source": [
    "# Interest.Rate\n",
    "df[\"Interest.Rate\"].isna().sum()\n",
    "plt.boxplot(df[\"Interest.Rate\"])\n",
    "df[\"Interest.Rate\"].describe()\n",
    "\n",
    "# For few-- Interest rate is high."
   ]
  },
  {
   "cell_type": "code",
   "execution_count": 503,
   "metadata": {},
   "outputs": [
    {
     "data": {
      "text/plain": [
       "count      1987.000000\n",
       "mean      36851.603840\n",
       "std       48130.768515\n",
       "min           0.000000\n",
       "25%        9639.000000\n",
       "50%       20859.240000\n",
       "75%       45406.960000\n",
       "max      518784.880000\n",
       "Name: Total.Amount.Paid, dtype: float64"
      ]
     },
     "execution_count": 503,
     "metadata": {},
     "output_type": "execute_result"
    },
    {
     "data": {
      "image/png": "[encoded data removed]",
      "text/plain": [
       "<matplotlib.figure.Figure at 0x1f9ebd4ee80>"
      ]
     },
     "metadata": {},
     "output_type": "display_data"
    }
   ],
   "source": [
    "# Total.Amount.Paid\n",
    "df[\"Total.Amount.Paid\"].isna().sum() # NO NA values.\n",
    "plt.boxplot(df[\"Total.Amount.Paid\"])\n",
    "df[\"Total.Amount.Paid\"].describe()\n",
    "# Assuming total amount paid is correlated with Loan Amount."
   ]
  },
  {
   "cell_type": "code",
   "execution_count": 504,
   "metadata": {},
   "outputs": [
    {
     "data": {
      "text/plain": [
       "count      1987.000000\n",
       "mean      81851.054026\n",
       "std       59132.847732\n",
       "min           0.000000\n",
       "25%       44951.495000\n",
       "50%       72954.600000\n",
       "75%      102855.510000\n",
       "max      500000.000000\n",
       "Name: Principal.Advance.Remaining, dtype: float64"
      ]
     },
     "execution_count": 504,
     "metadata": {},
     "output_type": "execute_result"
    },
    {
     "data": {
      "image/png": "[encoded data removed]",
      "text/plain": [
       "<matplotlib.figure.Figure at 0x1f9ee226b38>"
      ]
     },
     "metadata": {},
     "output_type": "display_data"
    }
   ],
   "source": [
    "# Principal.Advance.Remaining\n",
    "df[\"Principal.Advance.Remaining\"].isna().sum()  # No NA Values.\n",
    "plt.boxplot(df[\"Principal.Advance.Remaining\"])\n",
    "df[\"Principal.Advance.Remaining\"].describe()\n",
    "# This correlated with principle amount/ Loan amount."
   ]
  },
  {
   "cell_type": "code",
   "execution_count": 505,
   "metadata": {},
   "outputs": [
    {
     "data": {
      "text/html": [
       "<div>\n",
       "<style scoped>\n",
       "    .dataframe tbody tr th:only-of-type {\n",
       "        vertical-align: middle;\n",
       "    }\n",
       "\n",
       "    .dataframe tbody tr th {\n",
       "        vertical-align: top;\n",
       "    }\n",
       "\n",
       "    .dataframe thead th {\n",
       "        text-align: right;\n",
       "    }\n",
       "</style>\n",
       "<table border=\"1\" class=\"dataframe\">\n",
       "  <thead>\n",
       "    <tr style=\"text-align: right;\">\n",
       "      <th></th>\n",
       "      <th>Delinquent.Amount</th>\n",
       "    </tr>\n",
       "    <tr>\n",
       "      <th>pymt_standing</th>\n",
       "      <th></th>\n",
       "    </tr>\n",
       "  </thead>\n",
       "  <tbody>\n",
       "    <tr>\n",
       "      <th>Active - Bad Standing</th>\n",
       "      <td>19420.939013</td>\n",
       "    </tr>\n",
       "    <tr>\n",
       "      <th>Active - Good Standing</th>\n",
       "      <td>0.000000</td>\n",
       "    </tr>\n",
       "    <tr>\n",
       "      <th>Closed - Obligations met</th>\n",
       "      <td>0.000000</td>\n",
       "    </tr>\n",
       "  </tbody>\n",
       "</table>\n",
       "</div>"
      ],
      "text/plain": [
       "                          Delinquent.Amount\n",
       "pymt_standing                              \n",
       "Active - Bad Standing          19420.939013\n",
       "Active - Good Standing             0.000000\n",
       "Closed - Obligations met           0.000000"
      ]
     },
     "execution_count": 505,
     "metadata": {},
     "output_type": "execute_result"
    },
    {
     "data": {
      "image/png": "[encoded data removed]",
      "text/plain": [
       "<matplotlib.figure.Figure at 0x1f9ebba2d68>"
      ]
     },
     "metadata": {},
     "output_type": "display_data"
    }
   ],
   "source": [
    "# Delinquent.Amount\n",
    "df[\"Delinquent.Amount\"].isna().sum()\n",
    "plt.boxplot(df[\"Delinquent.Amount\"])\n",
    "df[\"Delinquent.Amount\"].describe()\n",
    "# Only if any payment is remaining. so applicable to BAD Customers only.in a way it is homogeonous. and less info gain. as we are going to predict as a part of acquisition.\n",
    "pd.pivot_table(data=df,index=\"pymt_standing\",values=\"Delinquent.Amount\",aggfunc=\"mean\")\n",
    "#  IT is clear that If any deliquent amount existing then he/she is a bad customer. \n",
    "# We have this info as on going loan, if we need to predict at the time of accquisition, we need to exclude this parameter."
   ]
  },
  {
   "cell_type": "code",
   "execution_count": 506,
   "metadata": {},
   "outputs": [
    {
     "data": {
      "text/plain": [
       "Monexo Fee Set    1007\n",
       "1-M5               211\n",
       "1-M6               201\n",
       "1-M7               139\n",
       "1-M4               131\n",
       "1-M3               111\n",
       "1-M8                83\n",
       "1-M2                65\n",
       "1-M1                39\n",
       "Name: Fee.Set, dtype: int64"
      ]
     },
     "execution_count": 506,
     "metadata": {},
     "output_type": "execute_result"
    }
   ],
   "source": [
    "# Fee.Set\n",
    "df[\"Fee.Set\"].isna().sum()\n",
    "Frequency_count(df[\"Fee.Set\"]) ## Most people are Under Monexo Fee set."
   ]
  },
  {
   "cell_type": "code",
   "execution_count": 507,
   "metadata": {},
   "outputs": [
    {
     "data": {
      "text/html": [
       "<div>\n",
       "<style scoped>\n",
       "    .dataframe tbody tr th:only-of-type {\n",
       "        vertical-align: middle;\n",
       "    }\n",
       "\n",
       "    .dataframe tbody tr th {\n",
       "        vertical-align: top;\n",
       "    }\n",
       "\n",
       "    .dataframe thead th {\n",
       "        text-align: right;\n",
       "    }\n",
       "</style>\n",
       "<table border=\"1\" class=\"dataframe\">\n",
       "  <thead>\n",
       "    <tr style=\"text-align: right;\">\n",
       "      <th></th>\n",
       "      <th>Linkedin.is.Verified</th>\n",
       "      <th>Facebook.is.Verified</th>\n",
       "      <th>Date.of.Birth</th>\n",
       "      <th>Gender</th>\n",
       "      <th>Education.Level</th>\n",
       "      <th>No.of.dependents</th>\n",
       "      <th>Detailed.reason.by.Applicant</th>\n",
       "      <th>CRIF.S1.Score</th>\n",
       "      <th>Application.incomplete.date</th>\n",
       "      <th>Loan.Amount</th>\n",
       "      <th>...</th>\n",
       "      <th>Interest.Rate</th>\n",
       "      <th>Maturity.Date</th>\n",
       "      <th>Total.Amount.Paid</th>\n",
       "      <th>Principal.Advance.Remaining</th>\n",
       "      <th>Delinquent.Amount</th>\n",
       "      <th>Fee.Set</th>\n",
       "      <th>Socialmedia_verified</th>\n",
       "      <th>year</th>\n",
       "      <th>Age</th>\n",
       "      <th>Submission_Duration</th>\n",
       "    </tr>\n",
       "  </thead>\n",
       "  <tbody>\n",
       "    <tr>\n",
       "      <th>0</th>\n",
       "      <td>NaN</td>\n",
       "      <td>NaN</td>\n",
       "      <td>1980-07-03</td>\n",
       "      <td>Male</td>\n",
       "      <td>Professional</td>\n",
       "      <td>1 to 2</td>\n",
       "      <td>I am working as Software Eng in a IT firm sinc...</td>\n",
       "      <td>753.0</td>\n",
       "      <td>2017-03-01</td>\n",
       "      <td>200000</td>\n",
       "      <td>...</td>\n",
       "      <td>16.41</td>\n",
       "      <td>2020-01-04</td>\n",
       "      <td>113840.00</td>\n",
       "      <td>123741.56</td>\n",
       "      <td>0.00</td>\n",
       "      <td>1-M3</td>\n",
       "      <td>0.0</td>\n",
       "      <td>1980</td>\n",
       "      <td>38</td>\n",
       "      <td>103</td>\n",
       "    </tr>\n",
       "    <tr>\n",
       "      <th>1</th>\n",
       "      <td>NaN</td>\n",
       "      <td>NaN</td>\n",
       "      <td>1983-02-06</td>\n",
       "      <td>Male</td>\n",
       "      <td>Graduate</td>\n",
       "      <td>1 to 2</td>\n",
       "      <td>I am working as an analyst Programmer in a IT ...</td>\n",
       "      <td>711.0</td>\n",
       "      <td>2016-11-18</td>\n",
       "      <td>85000</td>\n",
       "      <td>...</td>\n",
       "      <td>19.50</td>\n",
       "      <td>2018-01-12</td>\n",
       "      <td>87209.00</td>\n",
       "      <td>16762.90</td>\n",
       "      <td>0.00</td>\n",
       "      <td>1-M5</td>\n",
       "      <td>0.0</td>\n",
       "      <td>1983</td>\n",
       "      <td>35</td>\n",
       "      <td>0</td>\n",
       "    </tr>\n",
       "    <tr>\n",
       "      <th>2</th>\n",
       "      <td>NaN</td>\n",
       "      <td>NaN</td>\n",
       "      <td>1994-12-20</td>\n",
       "      <td>Male</td>\n",
       "      <td>Upto Hr Secondary</td>\n",
       "      <td>0</td>\n",
       "      <td>I have enough salary enough that i can take ca...</td>\n",
       "      <td>692.5</td>\n",
       "      <td>2016-11-19</td>\n",
       "      <td>50000</td>\n",
       "      <td>...</td>\n",
       "      <td>16.07</td>\n",
       "      <td>2018-01-12</td>\n",
       "      <td>31222.92</td>\n",
       "      <td>30407.81</td>\n",
       "      <td>19500.56</td>\n",
       "      <td>1-M3</td>\n",
       "      <td>0.0</td>\n",
       "      <td>1994</td>\n",
       "      <td>24</td>\n",
       "      <td>0</td>\n",
       "    </tr>\n",
       "    <tr>\n",
       "      <th>3</th>\n",
       "      <td>NaN</td>\n",
       "      <td>NaN</td>\n",
       "      <td>1981-04-20</td>\n",
       "      <td>Male</td>\n",
       "      <td>Graduate</td>\n",
       "      <td>1 to 2</td>\n",
       "      <td>Hi team my name is Balaji Polam,from last mont...</td>\n",
       "      <td>711.0</td>\n",
       "      <td>2016-11-20</td>\n",
       "      <td>130000</td>\n",
       "      <td>...</td>\n",
       "      <td>24.23</td>\n",
       "      <td>2019-01-12</td>\n",
       "      <td>174238.16</td>\n",
       "      <td>0.00</td>\n",
       "      <td>0.00</td>\n",
       "      <td>1-M7</td>\n",
       "      <td>0.0</td>\n",
       "      <td>1981</td>\n",
       "      <td>37</td>\n",
       "      <td>0</td>\n",
       "    </tr>\n",
       "    <tr>\n",
       "      <th>4</th>\n",
       "      <td>NaN</td>\n",
       "      <td>NaN</td>\n",
       "      <td>1977-05-29</td>\n",
       "      <td>Male</td>\n",
       "      <td>Post Graduate</td>\n",
       "      <td>3 to 5</td>\n",
       "      <td>I want to pay children's education fess and my...</td>\n",
       "      <td>711.0</td>\n",
       "      <td>2016-11-21</td>\n",
       "      <td>85000</td>\n",
       "      <td>...</td>\n",
       "      <td>19.55</td>\n",
       "      <td>2019-01-12</td>\n",
       "      <td>63229.00</td>\n",
       "      <td>47146.24</td>\n",
       "      <td>0.00</td>\n",
       "      <td>1-M5</td>\n",
       "      <td>0.0</td>\n",
       "      <td>1977</td>\n",
       "      <td>41</td>\n",
       "      <td>0</td>\n",
       "    </tr>\n",
       "    <tr>\n",
       "      <th>5</th>\n",
       "      <td>NaN</td>\n",
       "      <td>NaN</td>\n",
       "      <td>1995-08-17</td>\n",
       "      <td>Male</td>\n",
       "      <td>Graduate</td>\n",
       "      <td>0</td>\n",
       "      <td>I am a DATA ANALYST in a UK based FUND company...</td>\n",
       "      <td>711.0</td>\n",
       "      <td>2016-11-21</td>\n",
       "      <td>95000</td>\n",
       "      <td>...</td>\n",
       "      <td>19.55</td>\n",
       "      <td>2019-01-12</td>\n",
       "      <td>109376.92</td>\n",
       "      <td>0.00</td>\n",
       "      <td>0.00</td>\n",
       "      <td>1-M5</td>\n",
       "      <td>0.0</td>\n",
       "      <td>1995</td>\n",
       "      <td>23</td>\n",
       "      <td>0</td>\n",
       "    </tr>\n",
       "    <tr>\n",
       "      <th>6</th>\n",
       "      <td>NaN</td>\n",
       "      <td>NaN</td>\n",
       "      <td>1995-08-17</td>\n",
       "      <td>Male</td>\n",
       "      <td>Graduate</td>\n",
       "      <td>0</td>\n",
       "      <td>I am currently working as a Senior Analyst in ...</td>\n",
       "      <td>748.0</td>\n",
       "      <td>NaT</td>\n",
       "      <td>251000</td>\n",
       "      <td>...</td>\n",
       "      <td>18.27</td>\n",
       "      <td>2021-01-06</td>\n",
       "      <td>18220.00</td>\n",
       "      <td>240361.02</td>\n",
       "      <td>0.00</td>\n",
       "      <td>Monexo Fee Set</td>\n",
       "      <td>0.0</td>\n",
       "      <td>1995</td>\n",
       "      <td>23</td>\n",
       "      <td>512</td>\n",
       "    </tr>\n",
       "    <tr>\n",
       "      <th>7</th>\n",
       "      <td>NaN</td>\n",
       "      <td>NaN</td>\n",
       "      <td>1991-03-22</td>\n",
       "      <td>Male</td>\n",
       "      <td>Graduate</td>\n",
       "      <td>0</td>\n",
       "      <td>Hi Sir, I am applying loan for clearing my deb...</td>\n",
       "      <td>711.0</td>\n",
       "      <td>2016-11-22</td>\n",
       "      <td>95000</td>\n",
       "      <td>...</td>\n",
       "      <td>19.28</td>\n",
       "      <td>2019-01-12</td>\n",
       "      <td>69880.00</td>\n",
       "      <td>48931.56</td>\n",
       "      <td>0.00</td>\n",
       "      <td>1-M5</td>\n",
       "      <td>0.0</td>\n",
       "      <td>1991</td>\n",
       "      <td>27</td>\n",
       "      <td>1</td>\n",
       "    </tr>\n",
       "    <tr>\n",
       "      <th>8</th>\n",
       "      <td>NaN</td>\n",
       "      <td>NaN</td>\n",
       "      <td>1986-04-13</td>\n",
       "      <td>Male</td>\n",
       "      <td>Graduate</td>\n",
       "      <td>1 to 2</td>\n",
       "      <td>I am working as an accountant in a IT firm sin...</td>\n",
       "      <td>711.0</td>\n",
       "      <td>2016-11-22</td>\n",
       "      <td>180000</td>\n",
       "      <td>...</td>\n",
       "      <td>25.03</td>\n",
       "      <td>2019-01-12</td>\n",
       "      <td>143539.58</td>\n",
       "      <td>96634.34</td>\n",
       "      <td>0.00</td>\n",
       "      <td>1-M7</td>\n",
       "      <td>0.0</td>\n",
       "      <td>1986</td>\n",
       "      <td>32</td>\n",
       "      <td>0</td>\n",
       "    </tr>\n",
       "    <tr>\n",
       "      <th>9</th>\n",
       "      <td>NaN</td>\n",
       "      <td>NaN</td>\n",
       "      <td>1987-12-24</td>\n",
       "      <td>Male</td>\n",
       "      <td>Post Graduate</td>\n",
       "      <td>0</td>\n",
       "      <td>I am working with HR company with 4.6 years. I...</td>\n",
       "      <td>711.0</td>\n",
       "      <td>2016-11-23</td>\n",
       "      <td>175000</td>\n",
       "      <td>...</td>\n",
       "      <td>19.28</td>\n",
       "      <td>2019-01-12</td>\n",
       "      <td>128720.00</td>\n",
       "      <td>90144.46</td>\n",
       "      <td>0.00</td>\n",
       "      <td>1-M5</td>\n",
       "      <td>0.0</td>\n",
       "      <td>1987</td>\n",
       "      <td>31</td>\n",
       "      <td>1</td>\n",
       "    </tr>\n",
       "    <tr>\n",
       "      <th>10</th>\n",
       "      <td>NaN</td>\n",
       "      <td>NaN</td>\n",
       "      <td>1987-07-16</td>\n",
       "      <td>Male</td>\n",
       "      <td>Post Graduate</td>\n",
       "      <td>0</td>\n",
       "      <td>Hi, I am Ravi and I'm working as digital marke...</td>\n",
       "      <td>692.5</td>\n",
       "      <td>2016-11-23</td>\n",
       "      <td>140000</td>\n",
       "      <td>...</td>\n",
       "      <td>19.84</td>\n",
       "      <td>2019-01-12</td>\n",
       "      <td>61860.00</td>\n",
       "      <td>105267.55</td>\n",
       "      <td>41237.11</td>\n",
       "      <td>1-M5</td>\n",
       "      <td>0.0</td>\n",
       "      <td>1987</td>\n",
       "      <td>31</td>\n",
       "      <td>2</td>\n",
       "    </tr>\n",
       "    <tr>\n",
       "      <th>11</th>\n",
       "      <td>NaN</td>\n",
       "      <td>NaN</td>\n",
       "      <td>1987-02-27</td>\n",
       "      <td>Male</td>\n",
       "      <td>Post Graduate</td>\n",
       "      <td>0</td>\n",
       "      <td>I would like to borrow money for my personal use.</td>\n",
       "      <td>711.0</td>\n",
       "      <td>2016-11-24</td>\n",
       "      <td>100000</td>\n",
       "      <td>...</td>\n",
       "      <td>21.35</td>\n",
       "      <td>2020-01-01</td>\n",
       "      <td>72485.00</td>\n",
       "      <td>55515.98</td>\n",
       "      <td>0.00</td>\n",
       "      <td>1-M6</td>\n",
       "      <td>0.0</td>\n",
       "      <td>1987</td>\n",
       "      <td>31</td>\n",
       "      <td>2</td>\n",
       "    </tr>\n",
       "    <tr>\n",
       "      <th>12</th>\n",
       "      <td>NaN</td>\n",
       "      <td>NaN</td>\n",
       "      <td>1974-09-01</td>\n",
       "      <td>Male</td>\n",
       "      <td>Upto Hr Secondary</td>\n",
       "      <td>1 to 2</td>\n",
       "      <td>I would like to borrow money for my personal use.</td>\n",
       "      <td>637.0</td>\n",
       "      <td>2017-02-24</td>\n",
       "      <td>95000</td>\n",
       "      <td>...</td>\n",
       "      <td>24.23</td>\n",
       "      <td>2020-01-03</td>\n",
       "      <td>60812.00</td>\n",
       "      <td>60581.26</td>\n",
       "      <td>3702.06</td>\n",
       "      <td>1-M7</td>\n",
       "      <td>0.0</td>\n",
       "      <td>1974</td>\n",
       "      <td>44</td>\n",
       "      <td>97</td>\n",
       "    </tr>\n",
       "    <tr>\n",
       "      <th>13</th>\n",
       "      <td>NaN</td>\n",
       "      <td>NaN</td>\n",
       "      <td>1980-04-25</td>\n",
       "      <td>Male</td>\n",
       "      <td>Post Graduate</td>\n",
       "      <td>1 to 2</td>\n",
       "      <td>I am working as sales manager for philips HDL ...</td>\n",
       "      <td>692.5</td>\n",
       "      <td>2016-11-24</td>\n",
       "      <td>130000</td>\n",
       "      <td>...</td>\n",
       "      <td>18.94</td>\n",
       "      <td>2018-01-12</td>\n",
       "      <td>92012.00</td>\n",
       "      <td>65195.00</td>\n",
       "      <td>39070.88</td>\n",
       "      <td>1-M5</td>\n",
       "      <td>0.0</td>\n",
       "      <td>1980</td>\n",
       "      <td>38</td>\n",
       "      <td>9</td>\n",
       "    </tr>\n",
       "    <tr>\n",
       "      <th>14</th>\n",
       "      <td>NaN</td>\n",
       "      <td>NaN</td>\n",
       "      <td>1978-01-23</td>\n",
       "      <td>Male</td>\n",
       "      <td>Graduate</td>\n",
       "      <td>1 to 2</td>\n",
       "      <td>I have a total work experience of 8 years. I h...</td>\n",
       "      <td>711.0</td>\n",
       "      <td>2016-11-24</td>\n",
       "      <td>100000</td>\n",
       "      <td>...</td>\n",
       "      <td>21.11</td>\n",
       "      <td>2019-01-12</td>\n",
       "      <td>112442.68</td>\n",
       "      <td>0.00</td>\n",
       "      <td>0.00</td>\n",
       "      <td>1-M6</td>\n",
       "      <td>0.0</td>\n",
       "      <td>1978</td>\n",
       "      <td>40</td>\n",
       "      <td>2</td>\n",
       "    </tr>\n",
       "    <tr>\n",
       "      <th>15</th>\n",
       "      <td>NaN</td>\n",
       "      <td>NaN</td>\n",
       "      <td>1992-04-15</td>\n",
       "      <td>Male</td>\n",
       "      <td>Professional</td>\n",
       "      <td>1 to 2</td>\n",
       "      <td>I took some amount of 50000 from my Friend and...</td>\n",
       "      <td>711.0</td>\n",
       "      <td>2016-11-28</td>\n",
       "      <td>100000</td>\n",
       "      <td>...</td>\n",
       "      <td>21.91</td>\n",
       "      <td>2019-01-08</td>\n",
       "      <td>130067.49</td>\n",
       "      <td>0.00</td>\n",
       "      <td>0.00</td>\n",
       "      <td>1-M6</td>\n",
       "      <td>0.0</td>\n",
       "      <td>1992</td>\n",
       "      <td>26</td>\n",
       "      <td>0</td>\n",
       "    </tr>\n",
       "    <tr>\n",
       "      <th>16</th>\n",
       "      <td>NaN</td>\n",
       "      <td>NaN</td>\n",
       "      <td>1981-11-07</td>\n",
       "      <td>Male</td>\n",
       "      <td>Upto Hr Secondary</td>\n",
       "      <td>3 to 5</td>\n",
       "      <td>I have a total work experience of 10 years. I ...</td>\n",
       "      <td>711.0</td>\n",
       "      <td>2016-11-29</td>\n",
       "      <td>100000</td>\n",
       "      <td>...</td>\n",
       "      <td>24.01</td>\n",
       "      <td>2020-01-01</td>\n",
       "      <td>74980.72</td>\n",
       "      <td>56164.68</td>\n",
       "      <td>0.00</td>\n",
       "      <td>1-M7</td>\n",
       "      <td>0.0</td>\n",
       "      <td>1981</td>\n",
       "      <td>37</td>\n",
       "      <td>16</td>\n",
       "    </tr>\n",
       "    <tr>\n",
       "      <th>17</th>\n",
       "      <td>NaN</td>\n",
       "      <td>NaN</td>\n",
       "      <td>1985-07-01</td>\n",
       "      <td>Male</td>\n",
       "      <td>Diploma</td>\n",
       "      <td>1 to 2</td>\n",
       "      <td>I m working from last 10 years now I want to s...</td>\n",
       "      <td>692.5</td>\n",
       "      <td>2016-12-08</td>\n",
       "      <td>135000</td>\n",
       "      <td>...</td>\n",
       "      <td>19.04</td>\n",
       "      <td>2020-01-01</td>\n",
       "      <td>49759.12</td>\n",
       "      <td>108884.22</td>\n",
       "      <td>44662.96</td>\n",
       "      <td>1-M5</td>\n",
       "      <td>0.0</td>\n",
       "      <td>1985</td>\n",
       "      <td>33</td>\n",
       "      <td>8</td>\n",
       "    </tr>\n",
       "    <tr>\n",
       "      <th>18</th>\n",
       "      <td>NaN</td>\n",
       "      <td>NaN</td>\n",
       "      <td>1988-08-29</td>\n",
       "      <td>Male</td>\n",
       "      <td>Post Graduate</td>\n",
       "      <td>0</td>\n",
       "      <td>even earlier i have taken loans for short term...</td>\n",
       "      <td>692.5</td>\n",
       "      <td>2016-11-30</td>\n",
       "      <td>50000</td>\n",
       "      <td>...</td>\n",
       "      <td>24.74</td>\n",
       "      <td>2018-01-02</td>\n",
       "      <td>14560.00</td>\n",
       "      <td>38864.81</td>\n",
       "      <td>46002.13</td>\n",
       "      <td>1-M7</td>\n",
       "      <td>0.0</td>\n",
       "      <td>1988</td>\n",
       "      <td>30</td>\n",
       "      <td>0</td>\n",
       "    </tr>\n",
       "    <tr>\n",
       "      <th>19</th>\n",
       "      <td>NaN</td>\n",
       "      <td>NaN</td>\n",
       "      <td>1989-11-07</td>\n",
       "      <td>Male</td>\n",
       "      <td>Post Graduate</td>\n",
       "      <td>0</td>\n",
       "      <td>I would like to borrow money for my personal use.</td>\n",
       "      <td>711.0</td>\n",
       "      <td>2016-12-05</td>\n",
       "      <td>115000</td>\n",
       "      <td>...</td>\n",
       "      <td>19.55</td>\n",
       "      <td>2020-01-01</td>\n",
       "      <td>81263.00</td>\n",
       "      <td>63055.77</td>\n",
       "      <td>0.00</td>\n",
       "      <td>1-M5</td>\n",
       "      <td>0.0</td>\n",
       "      <td>1989</td>\n",
       "      <td>29</td>\n",
       "      <td>2</td>\n",
       "    </tr>\n",
       "  </tbody>\n",
       "</table>\n",
       "<p>20 rows × 38 columns</p>\n",
       "</div>"
      ],
      "text/plain": [
       "    Linkedin.is.Verified  Facebook.is.Verified Date.of.Birth Gender  \\\n",
       "0                    NaN                   NaN    1980-07-03   Male   \n",
       "1                    NaN                   NaN    1983-02-06   Male   \n",
       "2                    NaN                   NaN    1994-12-20   Male   \n",
       "3                    NaN                   NaN    1981-04-20   Male   \n",
       "4                    NaN                   NaN    1977-05-29   Male   \n",
       "5                    NaN                   NaN    1995-08-17   Male   \n",
       "6                    NaN                   NaN    1995-08-17   Male   \n",
       "7                    NaN                   NaN    1991-03-22   Male   \n",
       "8                    NaN                   NaN    1986-04-13   Male   \n",
       "9                    NaN                   NaN    1987-12-24   Male   \n",
       "10                   NaN                   NaN    1987-07-16   Male   \n",
       "11                   NaN                   NaN    1987-02-27   Male   \n",
       "12                   NaN                   NaN    1974-09-01   Male   \n",
       "13                   NaN                   NaN    1980-04-25   Male   \n",
       "14                   NaN                   NaN    1978-01-23   Male   \n",
       "15                   NaN                   NaN    1992-04-15   Male   \n",
       "16                   NaN                   NaN    1981-11-07   Male   \n",
       "17                   NaN                   NaN    1985-07-01   Male   \n",
       "18                   NaN                   NaN    1988-08-29   Male   \n",
       "19                   NaN                   NaN    1989-11-07   Male   \n",
       "\n",
       "      Education.Level No.of.dependents  \\\n",
       "0        Professional           1 to 2   \n",
       "1            Graduate           1 to 2   \n",
       "2   Upto Hr Secondary                0   \n",
       "3            Graduate           1 to 2   \n",
       "4       Post Graduate           3 to 5   \n",
       "5            Graduate                0   \n",
       "6            Graduate                0   \n",
       "7            Graduate                0   \n",
       "8            Graduate           1 to 2   \n",
       "9       Post Graduate                0   \n",
       "10      Post Graduate                0   \n",
       "11      Post Graduate                0   \n",
       "12  Upto Hr Secondary           1 to 2   \n",
       "13      Post Graduate           1 to 2   \n",
       "14           Graduate           1 to 2   \n",
       "15       Professional           1 to 2   \n",
       "16  Upto Hr Secondary           3 to 5   \n",
       "17            Diploma           1 to 2   \n",
       "18      Post Graduate                0   \n",
       "19      Post Graduate                0   \n",
       "\n",
       "                         Detailed.reason.by.Applicant  CRIF.S1.Score  \\\n",
       "0   I am working as Software Eng in a IT firm sinc...          753.0   \n",
       "1   I am working as an analyst Programmer in a IT ...          711.0   \n",
       "2   I have enough salary enough that i can take ca...          692.5   \n",
       "3   Hi team my name is Balaji Polam,from last mont...          711.0   \n",
       "4   I want to pay children's education fess and my...          711.0   \n",
       "5   I am a DATA ANALYST in a UK based FUND company...          711.0   \n",
       "6   I am currently working as a Senior Analyst in ...          748.0   \n",
       "7   Hi Sir, I am applying loan for clearing my deb...          711.0   \n",
       "8   I am working as an accountant in a IT firm sin...          711.0   \n",
       "9   I am working with HR company with 4.6 years. I...          711.0   \n",
       "10  Hi, I am Ravi and I'm working as digital marke...          692.5   \n",
       "11  I would like to borrow money for my personal use.          711.0   \n",
       "12  I would like to borrow money for my personal use.          637.0   \n",
       "13  I am working as sales manager for philips HDL ...          692.5   \n",
       "14  I have a total work experience of 8 years. I h...          711.0   \n",
       "15  I took some amount of 50000 from my Friend and...          711.0   \n",
       "16  I have a total work experience of 10 years. I ...          711.0   \n",
       "17  I m working from last 10 years now I want to s...          692.5   \n",
       "18  even earlier i have taken loans for short term...          692.5   \n",
       "19  I would like to borrow money for my personal use.          711.0   \n",
       "\n",
       "   Application.incomplete.date  Loan.Amount         ...           \\\n",
       "0                   2017-03-01       200000         ...            \n",
       "1                   2016-11-18        85000         ...            \n",
       "2                   2016-11-19        50000         ...            \n",
       "3                   2016-11-20       130000         ...            \n",
       "4                   2016-11-21        85000         ...            \n",
       "5                   2016-11-21        95000         ...            \n",
       "6                          NaT       251000         ...            \n",
       "7                   2016-11-22        95000         ...            \n",
       "8                   2016-11-22       180000         ...            \n",
       "9                   2016-11-23       175000         ...            \n",
       "10                  2016-11-23       140000         ...            \n",
       "11                  2016-11-24       100000         ...            \n",
       "12                  2017-02-24        95000         ...            \n",
       "13                  2016-11-24       130000         ...            \n",
       "14                  2016-11-24       100000         ...            \n",
       "15                  2016-11-28       100000         ...            \n",
       "16                  2016-11-29       100000         ...            \n",
       "17                  2016-12-08       135000         ...            \n",
       "18                  2016-11-30        50000         ...            \n",
       "19                  2016-12-05       115000         ...            \n",
       "\n",
       "    Interest.Rate  Maturity.Date  Total.Amount.Paid  \\\n",
       "0           16.41     2020-01-04          113840.00   \n",
       "1           19.50     2018-01-12           87209.00   \n",
       "2           16.07     2018-01-12           31222.92   \n",
       "3           24.23     2019-01-12          174238.16   \n",
       "4           19.55     2019-01-12           63229.00   \n",
       "5           19.55     2019-01-12          109376.92   \n",
       "6           18.27     2021-01-06           18220.00   \n",
       "7           19.28     2019-01-12           69880.00   \n",
       "8           25.03     2019-01-12          143539.58   \n",
       "9           19.28     2019-01-12          128720.00   \n",
       "10          19.84     2019-01-12           61860.00   \n",
       "11          21.35     2020-01-01           72485.00   \n",
       "12          24.23     2020-01-03           60812.00   \n",
       "13          18.94     2018-01-12           92012.00   \n",
       "14          21.11     2019-01-12          112442.68   \n",
       "15          21.91     2019-01-08          130067.49   \n",
       "16          24.01     2020-01-01           74980.72   \n",
       "17          19.04     2020-01-01           49759.12   \n",
       "18          24.74     2018-01-02           14560.00   \n",
       "19          19.55     2020-01-01           81263.00   \n",
       "\n",
       "   Principal.Advance.Remaining Delinquent.Amount         Fee.Set  \\\n",
       "0                    123741.56              0.00            1-M3   \n",
       "1                     16762.90              0.00            1-M5   \n",
       "2                     30407.81          19500.56            1-M3   \n",
       "3                         0.00              0.00            1-M7   \n",
       "4                     47146.24              0.00            1-M5   \n",
       "5                         0.00              0.00            1-M5   \n",
       "6                    240361.02              0.00  Monexo Fee Set   \n",
       "7                     48931.56              0.00            1-M5   \n",
       "8                     96634.34              0.00            1-M7   \n",
       "9                     90144.46              0.00            1-M5   \n",
       "10                   105267.55          41237.11            1-M5   \n",
       "11                    55515.98              0.00            1-M6   \n",
       "12                    60581.26           3702.06            1-M7   \n",
       "13                    65195.00          39070.88            1-M5   \n",
       "14                        0.00              0.00            1-M6   \n",
       "15                        0.00              0.00            1-M6   \n",
       "16                    56164.68              0.00            1-M7   \n",
       "17                   108884.22          44662.96            1-M5   \n",
       "18                    38864.81          46002.13            1-M7   \n",
       "19                    63055.77              0.00            1-M5   \n",
       "\n",
       "   Socialmedia_verified  year Age  Submission_Duration  \n",
       "0                   0.0  1980  38                  103  \n",
       "1                   0.0  1983  35                    0  \n",
       "2                   0.0  1994  24                    0  \n",
       "3                   0.0  1981  37                    0  \n",
       "4                   0.0  1977  41                    0  \n",
       "5                   0.0  1995  23                    0  \n",
       "6                   0.0  1995  23                  512  \n",
       "7                   0.0  1991  27                    1  \n",
       "8                   0.0  1986  32                    0  \n",
       "9                   0.0  1987  31                    1  \n",
       "10                  0.0  1987  31                    2  \n",
       "11                  0.0  1987  31                    2  \n",
       "12                  0.0  1974  44                   97  \n",
       "13                  0.0  1980  38                    9  \n",
       "14                  0.0  1978  40                    2  \n",
       "15                  0.0  1992  26                    0  \n",
       "16                  0.0  1981  37                   16  \n",
       "17                  0.0  1985  33                    8  \n",
       "18                  0.0  1988  30                    0  \n",
       "19                  0.0  1989  29                    2  \n",
       "\n",
       "[20 rows x 38 columns]"
      ]
     },
     "execution_count": 507,
     "metadata": {},
     "output_type": "execute_result"
    }
   ],
   "source": [
    "# Playing with Date columns in data -- \n",
    "\n",
    "# We have following columns realated to application process dates \"Application.incomplete.date\"\t\"Contract.Date\"\t\"Application.Completion.time\"\t\"Created.Date\"\t\"Maturity.Date\"\n",
    "# Not all columns are important. so deriving a new column \"Submission Duration\"  == Created.Date to Application.Completion.time \n",
    "# Duration will be in Days.\n",
    "\n",
    "df[\"Submission_Duration\"]=df[\"Application.Completion.time\"] - df[\"Created.Date\"]\n",
    "# values are in char, so split \n",
    "df[\"Submission_Duration\"] = df[\"Submission_Duration\"].apply(lambda x: str(x).split()[0])\n",
    "df.loc[df[\"Submission_Duration\"]==\"NaT\",\"Submission_Duration\"]  # 15 NAT values.\n",
    "df.loc[df[\"Submission_Duration\"]==\"NaT\",\"Submission_Duration\"] = 2  # Punching with a random number of days.\n",
    "df.head(20)\n"
   ]
  },
  {
   "cell_type": "code",
   "execution_count": 508,
   "metadata": {},
   "outputs": [],
   "source": [
    "# Data Cleaning is finished "
   ]
  },
  {
   "cell_type": "markdown",
   "metadata": {},
   "source": [
    "# DATA UNDERSTANDING EDA"
   ]
  },
  {
   "cell_type": "code",
   "execution_count": 509,
   "metadata": {},
   "outputs": [],
   "source": [
    "EDA_df= df[[\"Application.ID\",\"Socialmedia_verified\",\"Age\",\"Gender\",\"Delinquent.Amount\",\"Education.Level\",\"No.of.dependents\",\"CL.Purpose..Name\",\"pymt_standing\",\"CRIF.S1.Score\",\"Loan.Amount\",\"Payment.Amount\",\"Interest.Paid\",\"Principal.Advance.Paid\",\"Estimated.Interest\",\"Salary.Income.current.month\",\"Term\",\"Interest.Rate\",\"Total.Amount.Paid\",\"Principal.Advance.Remaining\",\"Marital.status\",\"Total.years.of.experience.in.Employment.\",\"Residential.status\",\"Fee.Set\",\"Submission_Duration\",\"Debt.service.ratio\"]]"
   ]
  },
  {
   "cell_type": "code",
   "execution_count": 510,
   "metadata": {},
   "outputs": [
    {
     "name": "stdout",
     "output_type": "stream",
     "text": [
      "<class 'pandas.core.frame.DataFrame'>\n",
      "Int64Index: 1987 entries, 0 to 1989\n",
      "Data columns (total 26 columns):\n",
      "Application.ID                              1987 non-null object\n",
      "Socialmedia_verified                        1987 non-null float64\n",
      "Age                                         1987 non-null int64\n",
      "Gender                                      1987 non-null object\n",
      "Delinquent.Amount                           1987 non-null float64\n",
      "Education.Level                             1987 non-null object\n",
      "No.of.dependents                            1987 non-null object\n",
      "CL.Purpose..Name                            1987 non-null object\n",
      "pymt_standing                               1987 non-null object\n",
      "CRIF.S1.Score                               1987 non-null float64\n",
      "Loan.Amount                                 1987 non-null int64\n",
      "Payment.Amount                              1987 non-null float64\n",
      "Interest.Paid                               1987 non-null float64\n",
      "Principal.Advance.Paid                      1987 non-null float64\n",
      "Estimated.Interest                          1987 non-null float64\n",
      "Salary.Income.current.month                 1987 non-null float64\n",
      "Term                                        1987 non-null int64\n",
      "Interest.Rate                               1987 non-null float64\n",
      "Total.Amount.Paid                           1987 non-null float64\n",
      "Principal.Advance.Remaining                 1987 non-null float64\n",
      "Marital.status                              1987 non-null object\n",
      "Total.years.of.experience.in.Employment.    1987 non-null float64\n",
      "Residential.status                          1987 non-null object\n",
      "Fee.Set                                     1987 non-null object\n",
      "Submission_Duration                         1987 non-null object\n",
      "Debt.service.ratio                          1987 non-null float64\n",
      "dtypes: float64(13), int64(3), object(10)\n",
      "memory usage: 499.1+ KB\n"
     ]
    }
   ],
   "source": [
    "EDA_df.info()"
   ]
  },
  {
   "cell_type": "code",
   "execution_count": 511,
   "metadata": {},
   "outputs": [],
   "source": [
    "# Our target Variable is pymt_standing\n",
    "# taking pivot table to indentify the significance.\n"
   ]
  },
  {
   "cell_type": "code",
   "execution_count": 512,
   "metadata": {},
   "outputs": [
    {
     "data": {
      "text/html": [
       "<div>\n",
       "<style scoped>\n",
       "    .dataframe tbody tr th:only-of-type {\n",
       "        vertical-align: middle;\n",
       "    }\n",
       "\n",
       "    .dataframe tbody tr th {\n",
       "        vertical-align: top;\n",
       "    }\n",
       "\n",
       "    .dataframe thead th {\n",
       "        text-align: right;\n",
       "    }\n",
       "</style>\n",
       "<table border=\"1\" class=\"dataframe\">\n",
       "  <thead>\n",
       "    <tr style=\"text-align: right;\">\n",
       "      <th></th>\n",
       "      <th>Delinquent.Amount</th>\n",
       "    </tr>\n",
       "    <tr>\n",
       "      <th>pymt_standing</th>\n",
       "      <th></th>\n",
       "    </tr>\n",
       "  </thead>\n",
       "  <tbody>\n",
       "    <tr>\n",
       "      <th>Active - Bad Standing</th>\n",
       "      <td>5903965.46</td>\n",
       "    </tr>\n",
       "    <tr>\n",
       "      <th>Active - Good Standing</th>\n",
       "      <td>0.00</td>\n",
       "    </tr>\n",
       "    <tr>\n",
       "      <th>Closed - Obligations met</th>\n",
       "      <td>0.00</td>\n",
       "    </tr>\n",
       "    <tr>\n",
       "      <th>All</th>\n",
       "      <td>5903965.46</td>\n",
       "    </tr>\n",
       "  </tbody>\n",
       "</table>\n",
       "</div>"
      ],
      "text/plain": [
       "                          Delinquent.Amount\n",
       "pymt_standing                              \n",
       "Active - Bad Standing            5903965.46\n",
       "Active - Good Standing                 0.00\n",
       "Closed - Obligations met               0.00\n",
       "All                              5903965.46"
      ]
     },
     "execution_count": 512,
     "metadata": {},
     "output_type": "execute_result"
    }
   ],
   "source": [
    "# Delinquent.Amount\n",
    "pd.pivot_table(data=EDA_df,index=\"pymt_standing\",values=\"Delinquent.Amount\",aggfunc=\"sum\",margins=True)\n",
    "# From the past data Delinquest is 100% useful, but not for accquisition model."
   ]
  },
  {
   "cell_type": "code",
   "execution_count": 513,
   "metadata": {},
   "outputs": [
    {
     "data": {
      "text/html": [
       "<div>\n",
       "<style scoped>\n",
       "    .dataframe tbody tr th:only-of-type {\n",
       "        vertical-align: middle;\n",
       "    }\n",
       "\n",
       "    .dataframe tbody tr th {\n",
       "        vertical-align: top;\n",
       "    }\n",
       "\n",
       "    .dataframe thead th {\n",
       "        text-align: right;\n",
       "    }\n",
       "</style>\n",
       "<table border=\"1\" class=\"dataframe\">\n",
       "  <thead>\n",
       "    <tr style=\"text-align: right;\">\n",
       "      <th></th>\n",
       "      <th>Socialmedia_verified</th>\n",
       "    </tr>\n",
       "    <tr>\n",
       "      <th>pymt_standing</th>\n",
       "      <th></th>\n",
       "    </tr>\n",
       "  </thead>\n",
       "  <tbody>\n",
       "    <tr>\n",
       "      <th>Active - Bad Standing</th>\n",
       "      <td>107.0</td>\n",
       "    </tr>\n",
       "    <tr>\n",
       "      <th>Active - Good Standing</th>\n",
       "      <td>730.0</td>\n",
       "    </tr>\n",
       "    <tr>\n",
       "      <th>Closed - Obligations met</th>\n",
       "      <td>52.0</td>\n",
       "    </tr>\n",
       "    <tr>\n",
       "      <th>All</th>\n",
       "      <td>889.0</td>\n",
       "    </tr>\n",
       "  </tbody>\n",
       "</table>\n",
       "</div>"
      ],
      "text/plain": [
       "                          Socialmedia_verified\n",
       "pymt_standing                                 \n",
       "Active - Bad Standing                    107.0\n",
       "Active - Good Standing                   730.0\n",
       "Closed - Obligations met                  52.0\n",
       "All                                      889.0"
      ]
     },
     "execution_count": 513,
     "metadata": {},
     "output_type": "execute_result"
    }
   ],
   "source": [
    "# Social media\n",
    "pd.pivot_table(data=EDA_df,index=\"pymt_standing\",values=\"Socialmedia_verified\",aggfunc=\"sum\",margins=True) ## verification is good predictor"
   ]
  },
  {
   "cell_type": "code",
   "execution_count": 514,
   "metadata": {},
   "outputs": [
    {
     "data": {
      "text/html": [
       "<div>\n",
       "<style scoped>\n",
       "    .dataframe tbody tr th:only-of-type {\n",
       "        vertical-align: middle;\n",
       "    }\n",
       "\n",
       "    .dataframe tbody tr th {\n",
       "        vertical-align: top;\n",
       "    }\n",
       "\n",
       "    .dataframe thead th {\n",
       "        text-align: right;\n",
       "    }\n",
       "</style>\n",
       "<table border=\"1\" class=\"dataframe\">\n",
       "  <thead>\n",
       "    <tr style=\"text-align: right;\">\n",
       "      <th></th>\n",
       "      <th>Age</th>\n",
       "    </tr>\n",
       "    <tr>\n",
       "      <th>pymt_standing</th>\n",
       "      <th></th>\n",
       "    </tr>\n",
       "  </thead>\n",
       "  <tbody>\n",
       "    <tr>\n",
       "      <th>Active - Bad Standing</th>\n",
       "      <td>31.236842</td>\n",
       "    </tr>\n",
       "    <tr>\n",
       "      <th>Active - Good Standing</th>\n",
       "      <td>30.441507</td>\n",
       "    </tr>\n",
       "    <tr>\n",
       "      <th>Closed - Obligations met</th>\n",
       "      <td>31.147059</td>\n",
       "    </tr>\n",
       "    <tr>\n",
       "      <th>All</th>\n",
       "      <td>30.623553</td>\n",
       "    </tr>\n",
       "  </tbody>\n",
       "</table>\n",
       "</div>"
      ],
      "text/plain": [
       "                                Age\n",
       "pymt_standing                      \n",
       "Active - Bad Standing     31.236842\n",
       "Active - Good Standing    30.441507\n",
       "Closed - Obligations met  31.147059\n",
       "All                       30.623553"
      ]
     },
     "execution_count": 514,
     "metadata": {},
     "output_type": "execute_result"
    }
   ],
   "source": [
    "# Age\n",
    "pd.pivot_table(data=EDA_df,index=\"pymt_standing\",values=\"Age\",aggfunc=\"mean\",margins=True) ## not a good predictor"
   ]
  },
  {
   "cell_type": "code",
   "execution_count": 515,
   "metadata": {},
   "outputs": [
    {
     "data": {
      "text/html": [
       "<div>\n",
       "<style scoped>\n",
       "    .dataframe tbody tr th:only-of-type {\n",
       "        vertical-align: middle;\n",
       "    }\n",
       "\n",
       "    .dataframe tbody tr th {\n",
       "        vertical-align: top;\n",
       "    }\n",
       "\n",
       "    .dataframe thead th {\n",
       "        text-align: right;\n",
       "    }\n",
       "</style>\n",
       "<table border=\"1\" class=\"dataframe\">\n",
       "  <thead>\n",
       "    <tr style=\"text-align: right;\">\n",
       "      <th>Gender</th>\n",
       "      <th>Female</th>\n",
       "      <th>Male</th>\n",
       "      <th>All</th>\n",
       "    </tr>\n",
       "    <tr>\n",
       "      <th>pymt_standing</th>\n",
       "      <th></th>\n",
       "      <th></th>\n",
       "      <th></th>\n",
       "    </tr>\n",
       "  </thead>\n",
       "  <tbody>\n",
       "    <tr>\n",
       "      <th>Active - Bad Standing</th>\n",
       "      <td>32</td>\n",
       "      <td>272</td>\n",
       "      <td>304</td>\n",
       "    </tr>\n",
       "    <tr>\n",
       "      <th>Active - Good Standing</th>\n",
       "      <td>243</td>\n",
       "      <td>1270</td>\n",
       "      <td>1513</td>\n",
       "    </tr>\n",
       "    <tr>\n",
       "      <th>Closed - Obligations met</th>\n",
       "      <td>22</td>\n",
       "      <td>148</td>\n",
       "      <td>170</td>\n",
       "    </tr>\n",
       "    <tr>\n",
       "      <th>All</th>\n",
       "      <td>297</td>\n",
       "      <td>1690</td>\n",
       "      <td>1987</td>\n",
       "    </tr>\n",
       "  </tbody>\n",
       "</table>\n",
       "</div>"
      ],
      "text/plain": [
       "Gender                    Female  Male   All\n",
       "pymt_standing                               \n",
       "Active - Bad Standing         32   272   304\n",
       "Active - Good Standing       243  1270  1513\n",
       "Closed - Obligations met      22   148   170\n",
       "All                          297  1690  1987"
      ]
     },
     "execution_count": 515,
     "metadata": {},
     "output_type": "execute_result"
    }
   ],
   "source": [
    "# Gender\n",
    "pd.pivot_table(data=EDA_df[[\"Gender\",\"pymt_standing\",\"Application.ID\"]],index=\"pymt_standing\",columns=\"Gender\",values=\"Application.ID\",aggfunc=\"count\",margins=True)\n",
    "\n",
    "# % female good customer is 81%\n",
    "# % male good customer is 75%  \n",
    "# not a well predictor variable."
   ]
  },
  {
   "cell_type": "code",
   "execution_count": 516,
   "metadata": {},
   "outputs": [
    {
     "data": {
      "text/html": [
       "<div>\n",
       "<style scoped>\n",
       "    .dataframe tbody tr th:only-of-type {\n",
       "        vertical-align: middle;\n",
       "    }\n",
       "\n",
       "    .dataframe tbody tr th {\n",
       "        vertical-align: top;\n",
       "    }\n",
       "\n",
       "    .dataframe thead th {\n",
       "        text-align: right;\n",
       "    }\n",
       "</style>\n",
       "<table border=\"1\" class=\"dataframe\">\n",
       "  <thead>\n",
       "    <tr style=\"text-align: right;\">\n",
       "      <th>Education.Level</th>\n",
       "      <th>Diploma</th>\n",
       "      <th>Graduate</th>\n",
       "      <th>Post Graduate</th>\n",
       "      <th>Professional</th>\n",
       "      <th>Upto Hr Secondary</th>\n",
       "      <th>All</th>\n",
       "    </tr>\n",
       "    <tr>\n",
       "      <th>pymt_standing</th>\n",
       "      <th></th>\n",
       "      <th></th>\n",
       "      <th></th>\n",
       "      <th></th>\n",
       "      <th></th>\n",
       "      <th></th>\n",
       "    </tr>\n",
       "  </thead>\n",
       "  <tbody>\n",
       "    <tr>\n",
       "      <th>Active - Bad Standing</th>\n",
       "      <td>20</td>\n",
       "      <td>191</td>\n",
       "      <td>49</td>\n",
       "      <td>15</td>\n",
       "      <td>29</td>\n",
       "      <td>304</td>\n",
       "    </tr>\n",
       "    <tr>\n",
       "      <th>Active - Good Standing</th>\n",
       "      <td>143</td>\n",
       "      <td>922</td>\n",
       "      <td>238</td>\n",
       "      <td>86</td>\n",
       "      <td>124</td>\n",
       "      <td>1513</td>\n",
       "    </tr>\n",
       "    <tr>\n",
       "      <th>Closed - Obligations met</th>\n",
       "      <td>16</td>\n",
       "      <td>104</td>\n",
       "      <td>31</td>\n",
       "      <td>9</td>\n",
       "      <td>10</td>\n",
       "      <td>170</td>\n",
       "    </tr>\n",
       "    <tr>\n",
       "      <th>All</th>\n",
       "      <td>179</td>\n",
       "      <td>1217</td>\n",
       "      <td>318</td>\n",
       "      <td>110</td>\n",
       "      <td>163</td>\n",
       "      <td>1987</td>\n",
       "    </tr>\n",
       "  </tbody>\n",
       "</table>\n",
       "</div>"
      ],
      "text/plain": [
       "Education.Level           Diploma  Graduate  Post Graduate  Professional  \\\n",
       "pymt_standing                                                              \n",
       "Active - Bad Standing          20       191             49            15   \n",
       "Active - Good Standing        143       922            238            86   \n",
       "Closed - Obligations met       16       104             31             9   \n",
       "All                           179      1217            318           110   \n",
       "\n",
       "Education.Level           Upto Hr Secondary   All  \n",
       "pymt_standing                                      \n",
       "Active - Bad Standing                    29   304  \n",
       "Active - Good Standing                  124  1513  \n",
       "Closed - Obligations met                 10   170  \n",
       "All                                     163  1987  "
      ]
     },
     "execution_count": 516,
     "metadata": {},
     "output_type": "execute_result"
    }
   ],
   "source": [
    "# Education.Level\n",
    "pd.pivot_table(data=EDA_df[[\"Education.Level\",\"pymt_standing\",\"Application.ID\"]],index=\"pymt_standing\",columns=\"Education.Level\",values=\"Application.ID\",aggfunc=\"count\",margins=True)\n",
    "# Each category having 74 to 79% good customer"
   ]
  },
  {
   "cell_type": "code",
   "execution_count": 517,
   "metadata": {},
   "outputs": [
    {
     "data": {
      "text/html": [
       "<div>\n",
       "<style scoped>\n",
       "    .dataframe tbody tr th:only-of-type {\n",
       "        vertical-align: middle;\n",
       "    }\n",
       "\n",
       "    .dataframe tbody tr th {\n",
       "        vertical-align: top;\n",
       "    }\n",
       "\n",
       "    .dataframe thead th {\n",
       "        text-align: right;\n",
       "    }\n",
       "</style>\n",
       "<table border=\"1\" class=\"dataframe\">\n",
       "  <thead>\n",
       "    <tr style=\"text-align: right;\">\n",
       "      <th>CL.Purpose..Name</th>\n",
       "      <th>Business</th>\n",
       "      <th>Debt Consolidation</th>\n",
       "      <th>Education</th>\n",
       "      <th>Holiday</th>\n",
       "      <th>Home renovation</th>\n",
       "      <th>Household General</th>\n",
       "      <th>Medical</th>\n",
       "      <th>Wedding</th>\n",
       "      <th>All</th>\n",
       "    </tr>\n",
       "    <tr>\n",
       "      <th>pymt_standing</th>\n",
       "      <th></th>\n",
       "      <th></th>\n",
       "      <th></th>\n",
       "      <th></th>\n",
       "      <th></th>\n",
       "      <th></th>\n",
       "      <th></th>\n",
       "      <th></th>\n",
       "      <th></th>\n",
       "    </tr>\n",
       "  </thead>\n",
       "  <tbody>\n",
       "    <tr>\n",
       "      <th>Active - Bad Standing</th>\n",
       "      <td>11</td>\n",
       "      <td>68</td>\n",
       "      <td>13</td>\n",
       "      <td>6</td>\n",
       "      <td>64</td>\n",
       "      <td>56</td>\n",
       "      <td>43</td>\n",
       "      <td>43</td>\n",
       "      <td>304</td>\n",
       "    </tr>\n",
       "    <tr>\n",
       "      <th>Active - Good Standing</th>\n",
       "      <td>83</td>\n",
       "      <td>365</td>\n",
       "      <td>96</td>\n",
       "      <td>30</td>\n",
       "      <td>304</td>\n",
       "      <td>271</td>\n",
       "      <td>172</td>\n",
       "      <td>192</td>\n",
       "      <td>1513</td>\n",
       "    </tr>\n",
       "    <tr>\n",
       "      <th>Closed - Obligations met</th>\n",
       "      <td>3</td>\n",
       "      <td>45</td>\n",
       "      <td>9</td>\n",
       "      <td>3</td>\n",
       "      <td>30</td>\n",
       "      <td>39</td>\n",
       "      <td>17</td>\n",
       "      <td>24</td>\n",
       "      <td>170</td>\n",
       "    </tr>\n",
       "    <tr>\n",
       "      <th>All</th>\n",
       "      <td>97</td>\n",
       "      <td>478</td>\n",
       "      <td>118</td>\n",
       "      <td>39</td>\n",
       "      <td>398</td>\n",
       "      <td>366</td>\n",
       "      <td>232</td>\n",
       "      <td>259</td>\n",
       "      <td>1987</td>\n",
       "    </tr>\n",
       "  </tbody>\n",
       "</table>\n",
       "</div>"
      ],
      "text/plain": [
       "CL.Purpose..Name          Business  Debt Consolidation  Education  Holiday  \\\n",
       "pymt_standing                                                                \n",
       "Active - Bad Standing           11                  68         13        6   \n",
       "Active - Good Standing          83                 365         96       30   \n",
       "Closed - Obligations met         3                  45          9        3   \n",
       "All                             97                 478        118       39   \n",
       "\n",
       "CL.Purpose..Name          Home renovation  Household General  Medical  \\\n",
       "pymt_standing                                                           \n",
       "Active - Bad Standing                  64                 56       43   \n",
       "Active - Good Standing                304                271      172   \n",
       "Closed - Obligations met               30                 39       17   \n",
       "All                                   398                366      232   \n",
       "\n",
       "CL.Purpose..Name          Wedding   All  \n",
       "pymt_standing                            \n",
       "Active - Bad Standing          43   304  \n",
       "Active - Good Standing        192  1513  \n",
       "Closed - Obligations met       24   170  \n",
       "All                           259  1987  "
      ]
     },
     "execution_count": 517,
     "metadata": {},
     "output_type": "execute_result"
    }
   ],
   "source": [
    "# CL.Purpose..Name\n",
    "pd.pivot_table(data=EDA_df[[\"CL.Purpose..Name\",\"pymt_standing\",\"Application.ID\"]],index=\"pymt_standing\",columns=\"CL.Purpose..Name\",values=\"Application.ID\",aggfunc=\"count\",margins=True)\n",
    "\n",
    "# Business and and eduction purpose have more than 80%"
   ]
  },
  {
   "cell_type": "code",
   "execution_count": 518,
   "metadata": {},
   "outputs": [
    {
     "data": {
      "text/html": [
       "<div>\n",
       "<style scoped>\n",
       "    .dataframe tbody tr th:only-of-type {\n",
       "        vertical-align: middle;\n",
       "    }\n",
       "\n",
       "    .dataframe tbody tr th {\n",
       "        vertical-align: top;\n",
       "    }\n",
       "\n",
       "    .dataframe thead th {\n",
       "        text-align: right;\n",
       "    }\n",
       "</style>\n",
       "<table border=\"1\" class=\"dataframe\">\n",
       "  <thead>\n",
       "    <tr style=\"text-align: right;\">\n",
       "      <th></th>\n",
       "      <th>CRIF.S1.Score</th>\n",
       "    </tr>\n",
       "    <tr>\n",
       "      <th>pymt_standing</th>\n",
       "      <th></th>\n",
       "    </tr>\n",
       "  </thead>\n",
       "  <tbody>\n",
       "    <tr>\n",
       "      <th>Active - Bad Standing</th>\n",
       "      <td>672.500000</td>\n",
       "    </tr>\n",
       "    <tr>\n",
       "      <th>Active - Good Standing</th>\n",
       "      <td>692.635823</td>\n",
       "    </tr>\n",
       "    <tr>\n",
       "      <th>Closed - Obligations met</th>\n",
       "      <td>681.970588</td>\n",
       "    </tr>\n",
       "    <tr>\n",
       "      <th>All</th>\n",
       "      <td>688.642677</td>\n",
       "    </tr>\n",
       "  </tbody>\n",
       "</table>\n",
       "</div>"
      ],
      "text/plain": [
       "                          CRIF.S1.Score\n",
       "pymt_standing                          \n",
       "Active - Bad Standing        672.500000\n",
       "Active - Good Standing       692.635823\n",
       "Closed - Obligations met     681.970588\n",
       "All                          688.642677"
      ]
     },
     "execution_count": 518,
     "metadata": {},
     "output_type": "execute_result"
    }
   ],
   "source": [
    "# CRIF.S1.Score\n",
    "pd.pivot_table(data=EDA_df,index=\"pymt_standing\",values=\"CRIF.S1.Score\",aggfunc=\"mean\",margins=True)\n",
    "# All the three categories are having very close Credit score."
   ]
  },
  {
   "cell_type": "code",
   "execution_count": 519,
   "metadata": {},
   "outputs": [
    {
     "data": {
      "text/html": [
       "<div>\n",
       "<style scoped>\n",
       "    .dataframe tbody tr th:only-of-type {\n",
       "        vertical-align: middle;\n",
       "    }\n",
       "\n",
       "    .dataframe tbody tr th {\n",
       "        vertical-align: top;\n",
       "    }\n",
       "\n",
       "    .dataframe thead th {\n",
       "        text-align: right;\n",
       "    }\n",
       "</style>\n",
       "<table border=\"1\" class=\"dataframe\">\n",
       "  <thead>\n",
       "    <tr style=\"text-align: right;\">\n",
       "      <th></th>\n",
       "      <th>Loan.Amount</th>\n",
       "    </tr>\n",
       "    <tr>\n",
       "      <th>pymt_standing</th>\n",
       "      <th></th>\n",
       "    </tr>\n",
       "  </thead>\n",
       "  <tbody>\n",
       "    <tr>\n",
       "      <th>Active - Bad Standing</th>\n",
       "      <td>112947.368421</td>\n",
       "    </tr>\n",
       "    <tr>\n",
       "      <th>Active - Good Standing</th>\n",
       "      <td>107243.225380</td>\n",
       "    </tr>\n",
       "    <tr>\n",
       "      <th>Closed - Obligations met</th>\n",
       "      <td>110617.647059</td>\n",
       "    </tr>\n",
       "    <tr>\n",
       "      <th>All</th>\n",
       "      <td>108404.630096</td>\n",
       "    </tr>\n",
       "  </tbody>\n",
       "</table>\n",
       "</div>"
      ],
      "text/plain": [
       "                            Loan.Amount\n",
       "pymt_standing                          \n",
       "Active - Bad Standing     112947.368421\n",
       "Active - Good Standing    107243.225380\n",
       "Closed - Obligations met  110617.647059\n",
       "All                       108404.630096"
      ]
     },
     "execution_count": 519,
     "metadata": {},
     "output_type": "execute_result"
    }
   ],
   "source": [
    "# Loan.Amount\n",
    "pd.pivot_table(data=EDA_df,index=\"pymt_standing\",values=\"Loan.Amount\",aggfunc=\"mean\",margins=True)\n",
    "# Average Loan amount for a Bad customer is high."
   ]
  },
  {
   "cell_type": "code",
   "execution_count": 520,
   "metadata": {},
   "outputs": [
    {
     "data": {
      "text/html": [
       "<div>\n",
       "<style scoped>\n",
       "    .dataframe tbody tr th:only-of-type {\n",
       "        vertical-align: middle;\n",
       "    }\n",
       "\n",
       "    .dataframe tbody tr th {\n",
       "        vertical-align: top;\n",
       "    }\n",
       "\n",
       "    .dataframe thead th {\n",
       "        text-align: right;\n",
       "    }\n",
       "</style>\n",
       "<table border=\"1\" class=\"dataframe\">\n",
       "  <thead>\n",
       "    <tr style=\"text-align: right;\">\n",
       "      <th></th>\n",
       "      <th>Payment.Amount</th>\n",
       "    </tr>\n",
       "    <tr>\n",
       "      <th>pymt_standing</th>\n",
       "      <th></th>\n",
       "    </tr>\n",
       "  </thead>\n",
       "  <tbody>\n",
       "    <tr>\n",
       "      <th>Active - Bad Standing</th>\n",
       "      <td>5203.733191</td>\n",
       "    </tr>\n",
       "    <tr>\n",
       "      <th>Active - Good Standing</th>\n",
       "      <td>4868.557046</td>\n",
       "    </tr>\n",
       "    <tr>\n",
       "      <th>Closed - Obligations met</th>\n",
       "      <td>5224.752176</td>\n",
       "    </tr>\n",
       "    <tr>\n",
       "      <th>All</th>\n",
       "      <td>4950.311812</td>\n",
       "    </tr>\n",
       "  </tbody>\n",
       "</table>\n",
       "</div>"
      ],
      "text/plain": [
       "                          Payment.Amount\n",
       "pymt_standing                           \n",
       "Active - Bad Standing        5203.733191\n",
       "Active - Good Standing       4868.557046\n",
       "Closed - Obligations met     5224.752176\n",
       "All                          4950.311812"
      ]
     },
     "execution_count": 520,
     "metadata": {},
     "output_type": "execute_result"
    }
   ],
   "source": [
    "# Payment.Amount\n",
    "pd.pivot_table(data=EDA_df,index=\"pymt_standing\",values=\"Payment.Amount\",aggfunc=\"mean\",margins=True)\n",
    "# Average Payment.Amount for a Bad customer is high."
   ]
  },
  {
   "cell_type": "code",
   "execution_count": 521,
   "metadata": {},
   "outputs": [
    {
     "data": {
      "text/html": [
       "<div>\n",
       "<style scoped>\n",
       "    .dataframe tbody tr th:only-of-type {\n",
       "        vertical-align: middle;\n",
       "    }\n",
       "\n",
       "    .dataframe tbody tr th {\n",
       "        vertical-align: top;\n",
       "    }\n",
       "\n",
       "    .dataframe thead th {\n",
       "        text-align: right;\n",
       "    }\n",
       "</style>\n",
       "<table border=\"1\" class=\"dataframe\">\n",
       "  <thead>\n",
       "    <tr style=\"text-align: right;\">\n",
       "      <th></th>\n",
       "      <th>Interest.Paid</th>\n",
       "    </tr>\n",
       "    <tr>\n",
       "      <th>pymt_standing</th>\n",
       "      <th></th>\n",
       "    </tr>\n",
       "  </thead>\n",
       "  <tbody>\n",
       "    <tr>\n",
       "      <th>Active - Bad Standing</th>\n",
       "      <td>14066.837632</td>\n",
       "    </tr>\n",
       "    <tr>\n",
       "      <th>Active - Good Standing</th>\n",
       "      <td>9398.085354</td>\n",
       "    </tr>\n",
       "    <tr>\n",
       "      <th>Closed - Obligations met</th>\n",
       "      <td>9234.868118</td>\n",
       "    </tr>\n",
       "    <tr>\n",
       "      <th>All</th>\n",
       "      <td>10098.414373</td>\n",
       "    </tr>\n",
       "  </tbody>\n",
       "</table>\n",
       "</div>"
      ],
      "text/plain": [
       "                          Interest.Paid\n",
       "pymt_standing                          \n",
       "Active - Bad Standing      14066.837632\n",
       "Active - Good Standing      9398.085354\n",
       "Closed - Obligations met    9234.868118\n",
       "All                        10098.414373"
      ]
     },
     "execution_count": 521,
     "metadata": {},
     "output_type": "execute_result"
    }
   ],
   "source": [
    "# Interest.Paid\n",
    "pd.pivot_table(data=EDA_df,index=\"pymt_standing\",values=\"Interest.Paid\",aggfunc=\"mean\",margins=True)\n",
    "# Average Interest.Paid for a Bad customer is high."
   ]
  },
  {
   "cell_type": "code",
   "execution_count": 522,
   "metadata": {},
   "outputs": [
    {
     "data": {
      "text/html": [
       "<div>\n",
       "<style scoped>\n",
       "    .dataframe tbody tr th:only-of-type {\n",
       "        vertical-align: middle;\n",
       "    }\n",
       "\n",
       "    .dataframe tbody tr th {\n",
       "        vertical-align: top;\n",
       "    }\n",
       "\n",
       "    .dataframe thead th {\n",
       "        text-align: right;\n",
       "    }\n",
       "</style>\n",
       "<table border=\"1\" class=\"dataframe\">\n",
       "  <thead>\n",
       "    <tr style=\"text-align: right;\">\n",
       "      <th></th>\n",
       "      <th>Principal.Advance.Paid</th>\n",
       "    </tr>\n",
       "    <tr>\n",
       "      <th>pymt_standing</th>\n",
       "      <th></th>\n",
       "    </tr>\n",
       "  </thead>\n",
       "  <tbody>\n",
       "    <tr>\n",
       "      <th>Active - Bad Standing</th>\n",
       "      <td>20812.050724</td>\n",
       "    </tr>\n",
       "    <tr>\n",
       "      <th>Active - Good Standing</th>\n",
       "      <td>18261.803648</td>\n",
       "    </tr>\n",
       "    <tr>\n",
       "      <th>Closed - Obligations met</th>\n",
       "      <td>110617.549059</td>\n",
       "    </tr>\n",
       "    <tr>\n",
       "      <th>All</th>\n",
       "      <td>26553.576085</td>\n",
       "    </tr>\n",
       "  </tbody>\n",
       "</table>\n",
       "</div>"
      ],
      "text/plain": [
       "                          Principal.Advance.Paid\n",
       "pymt_standing                                   \n",
       "Active - Bad Standing               20812.050724\n",
       "Active - Good Standing              18261.803648\n",
       "Closed - Obligations met           110617.549059\n",
       "All                                 26553.576085"
      ]
     },
     "execution_count": 522,
     "metadata": {},
     "output_type": "execute_result"
    }
   ],
   "source": [
    "# Principal.Advance.Paid\n",
    "pd.pivot_table(data=EDA_df,index=\"pymt_standing\",values=\"Principal.Advance.Paid\",aggfunc=\"mean\",margins=True)\n",
    "# Average Principal.Advance.Paid for a Bad customer is high."
   ]
  },
  {
   "cell_type": "code",
   "execution_count": 523,
   "metadata": {},
   "outputs": [
    {
     "data": {
      "text/html": [
       "<div>\n",
       "<style scoped>\n",
       "    .dataframe tbody tr th:only-of-type {\n",
       "        vertical-align: middle;\n",
       "    }\n",
       "\n",
       "    .dataframe tbody tr th {\n",
       "        vertical-align: top;\n",
       "    }\n",
       "\n",
       "    .dataframe thead th {\n",
       "        text-align: right;\n",
       "    }\n",
       "</style>\n",
       "<table border=\"1\" class=\"dataframe\">\n",
       "  <thead>\n",
       "    <tr style=\"text-align: right;\">\n",
       "      <th></th>\n",
       "      <th>Estimated.Interest</th>\n",
       "    </tr>\n",
       "    <tr>\n",
       "      <th>pymt_standing</th>\n",
       "      <th></th>\n",
       "    </tr>\n",
       "  </thead>\n",
       "  <tbody>\n",
       "    <tr>\n",
       "      <th>Active - Bad Standing</th>\n",
       "      <td>34131.705954</td>\n",
       "    </tr>\n",
       "    <tr>\n",
       "      <th>Active - Good Standing</th>\n",
       "      <td>31393.660549</td>\n",
       "    </tr>\n",
       "    <tr>\n",
       "      <th>Closed - Obligations met</th>\n",
       "      <td>32073.920000</td>\n",
       "    </tr>\n",
       "    <tr>\n",
       "      <th>All</th>\n",
       "      <td>31870.766694</td>\n",
       "    </tr>\n",
       "  </tbody>\n",
       "</table>\n",
       "</div>"
      ],
      "text/plain": [
       "                          Estimated.Interest\n",
       "pymt_standing                               \n",
       "Active - Bad Standing           34131.705954\n",
       "Active - Good Standing          31393.660549\n",
       "Closed - Obligations met        32073.920000\n",
       "All                             31870.766694"
      ]
     },
     "execution_count": 523,
     "metadata": {},
     "output_type": "execute_result"
    }
   ],
   "source": [
    "# Estimated.Interest\n",
    "pd.pivot_table(data=EDA_df,index=\"pymt_standing\",values=\"Estimated.Interest\",aggfunc=\"mean\",margins=True)\n",
    "# Average Estimated.Interest for a Bad customer is high."
   ]
  },
  {
   "cell_type": "code",
   "execution_count": 524,
   "metadata": {},
   "outputs": [
    {
     "data": {
      "text/html": [
       "<div>\n",
       "<style scoped>\n",
       "    .dataframe tbody tr th:only-of-type {\n",
       "        vertical-align: middle;\n",
       "    }\n",
       "\n",
       "    .dataframe tbody tr th {\n",
       "        vertical-align: top;\n",
       "    }\n",
       "\n",
       "    .dataframe thead th {\n",
       "        text-align: right;\n",
       "    }\n",
       "</style>\n",
       "<table border=\"1\" class=\"dataframe\">\n",
       "  <thead>\n",
       "    <tr style=\"text-align: right;\">\n",
       "      <th></th>\n",
       "      <th>Salary.Income.current.month</th>\n",
       "    </tr>\n",
       "    <tr>\n",
       "      <th>pymt_standing</th>\n",
       "      <th></th>\n",
       "    </tr>\n",
       "  </thead>\n",
       "  <tbody>\n",
       "    <tr>\n",
       "      <th>Active - Bad Standing</th>\n",
       "      <td>32200.754934</td>\n",
       "    </tr>\n",
       "    <tr>\n",
       "      <th>Active - Good Standing</th>\n",
       "      <td>29490.202247</td>\n",
       "    </tr>\n",
       "    <tr>\n",
       "      <th>Closed - Obligations met</th>\n",
       "      <td>34635.076471</td>\n",
       "    </tr>\n",
       "    <tr>\n",
       "      <th>All</th>\n",
       "      <td>30345.077252</td>\n",
       "    </tr>\n",
       "  </tbody>\n",
       "</table>\n",
       "</div>"
      ],
      "text/plain": [
       "                          Salary.Income.current.month\n",
       "pymt_standing                                        \n",
       "Active - Bad Standing                    32200.754934\n",
       "Active - Good Standing                   29490.202247\n",
       "Closed - Obligations met                 34635.076471\n",
       "All                                      30345.077252"
      ]
     },
     "execution_count": 524,
     "metadata": {},
     "output_type": "execute_result"
    }
   ],
   "source": [
    "# Salary.Income.current.month\n",
    "pd.pivot_table(data=EDA_df,index=\"pymt_standing\",values=\"Salary.Income.current.month\",aggfunc=\"mean\",margins=True)\n",
    "# Average Salary.Income.current.month for a Bad customer is high."
   ]
  },
  {
   "cell_type": "code",
   "execution_count": 525,
   "metadata": {},
   "outputs": [
    {
     "data": {
      "text/html": [
       "<div>\n",
       "<style scoped>\n",
       "    .dataframe tbody tr th:only-of-type {\n",
       "        vertical-align: middle;\n",
       "    }\n",
       "\n",
       "    .dataframe tbody tr th {\n",
       "        vertical-align: top;\n",
       "    }\n",
       "\n",
       "    .dataframe thead th {\n",
       "        text-align: right;\n",
       "    }\n",
       "</style>\n",
       "<table border=\"1\" class=\"dataframe\">\n",
       "  <thead>\n",
       "    <tr style=\"text-align: right;\">\n",
       "      <th></th>\n",
       "      <th>Term</th>\n",
       "    </tr>\n",
       "    <tr>\n",
       "      <th>pymt_standing</th>\n",
       "      <th></th>\n",
       "    </tr>\n",
       "  </thead>\n",
       "  <tbody>\n",
       "    <tr>\n",
       "      <th>Active - Bad Standing</th>\n",
       "      <td>28.684211</td>\n",
       "    </tr>\n",
       "    <tr>\n",
       "      <th>Active - Good Standing</th>\n",
       "      <td>28.828156</td>\n",
       "    </tr>\n",
       "    <tr>\n",
       "      <th>Closed - Obligations met</th>\n",
       "      <td>27.723529</td>\n",
       "    </tr>\n",
       "    <tr>\n",
       "      <th>All</th>\n",
       "      <td>28.711626</td>\n",
       "    </tr>\n",
       "  </tbody>\n",
       "</table>\n",
       "</div>"
      ],
      "text/plain": [
       "                               Term\n",
       "pymt_standing                      \n",
       "Active - Bad Standing     28.684211\n",
       "Active - Good Standing    28.828156\n",
       "Closed - Obligations met  27.723529\n",
       "All                       28.711626"
      ]
     },
     "execution_count": 525,
     "metadata": {},
     "output_type": "execute_result"
    }
   ],
   "source": [
    "# Term\n",
    "pd.pivot_table(data=EDA_df,index=\"pymt_standing\",values=\"Term\",aggfunc=\"mean\",margins=True)\n",
    "# Average Term are closer"
   ]
  },
  {
   "cell_type": "code",
   "execution_count": 526,
   "metadata": {},
   "outputs": [
    {
     "data": {
      "text/html": [
       "<div>\n",
       "<style scoped>\n",
       "    .dataframe tbody tr th:only-of-type {\n",
       "        vertical-align: middle;\n",
       "    }\n",
       "\n",
       "    .dataframe tbody tr th {\n",
       "        vertical-align: top;\n",
       "    }\n",
       "\n",
       "    .dataframe thead th {\n",
       "        text-align: right;\n",
       "    }\n",
       "</style>\n",
       "<table border=\"1\" class=\"dataframe\">\n",
       "  <thead>\n",
       "    <tr style=\"text-align: right;\">\n",
       "      <th></th>\n",
       "      <th>Interest.Rate</th>\n",
       "    </tr>\n",
       "    <tr>\n",
       "      <th>pymt_standing</th>\n",
       "      <th></th>\n",
       "    </tr>\n",
       "  </thead>\n",
       "  <tbody>\n",
       "    <tr>\n",
       "      <th>Active - Bad Standing</th>\n",
       "      <td>20.946941</td>\n",
       "    </tr>\n",
       "    <tr>\n",
       "      <th>Active - Good Standing</th>\n",
       "      <td>20.516074</td>\n",
       "    </tr>\n",
       "    <tr>\n",
       "      <th>Closed - Obligations met</th>\n",
       "      <td>20.308529</td>\n",
       "    </tr>\n",
       "    <tr>\n",
       "      <th>All</th>\n",
       "      <td>20.564238</td>\n",
       "    </tr>\n",
       "  </tbody>\n",
       "</table>\n",
       "</div>"
      ],
      "text/plain": [
       "                          Interest.Rate\n",
       "pymt_standing                          \n",
       "Active - Bad Standing         20.946941\n",
       "Active - Good Standing        20.516074\n",
       "Closed - Obligations met      20.308529\n",
       "All                           20.564238"
      ]
     },
     "execution_count": 526,
     "metadata": {},
     "output_type": "execute_result"
    }
   ],
   "source": [
    "# Interest.Rate\n",
    "pd.pivot_table(data=EDA_df,index=\"pymt_standing\",values=\"Interest.Rate\",aggfunc=\"mean\",margins=True)\n",
    "# Average Interest.Rate are closer"
   ]
  },
  {
   "cell_type": "code",
   "execution_count": 527,
   "metadata": {},
   "outputs": [
    {
     "data": {
      "text/html": [
       "<div>\n",
       "<style scoped>\n",
       "    .dataframe tbody tr th:only-of-type {\n",
       "        vertical-align: middle;\n",
       "    }\n",
       "\n",
       "    .dataframe tbody tr th {\n",
       "        vertical-align: top;\n",
       "    }\n",
       "\n",
       "    .dataframe thead th {\n",
       "        text-align: right;\n",
       "    }\n",
       "</style>\n",
       "<table border=\"1\" class=\"dataframe\">\n",
       "  <thead>\n",
       "    <tr style=\"text-align: right;\">\n",
       "      <th></th>\n",
       "      <th>Total.Amount.Paid</th>\n",
       "    </tr>\n",
       "    <tr>\n",
       "      <th>pymt_standing</th>\n",
       "      <th></th>\n",
       "    </tr>\n",
       "  </thead>\n",
       "  <tbody>\n",
       "    <tr>\n",
       "      <th>Active - Bad Standing</th>\n",
       "      <td>35468.060066</td>\n",
       "    </tr>\n",
       "    <tr>\n",
       "      <th>Active - Good Standing</th>\n",
       "      <td>27773.415373</td>\n",
       "    </tr>\n",
       "    <tr>\n",
       "      <th>Closed - Obligations met</th>\n",
       "      <td>120121.583000</td>\n",
       "    </tr>\n",
       "    <tr>\n",
       "      <th>All</th>\n",
       "      <td>36851.603840</td>\n",
       "    </tr>\n",
       "  </tbody>\n",
       "</table>\n",
       "</div>"
      ],
      "text/plain": [
       "                          Total.Amount.Paid\n",
       "pymt_standing                              \n",
       "Active - Bad Standing          35468.060066\n",
       "Active - Good Standing         27773.415373\n",
       "Closed - Obligations met      120121.583000\n",
       "All                            36851.603840"
      ]
     },
     "execution_count": 527,
     "metadata": {},
     "output_type": "execute_result"
    }
   ],
   "source": [
    "# Total.Amount.Paid\n",
    "pd.pivot_table(data=EDA_df,index=\"pymt_standing\",values=\"Total.Amount.Paid\",aggfunc=\"mean\",margins=True)\n",
    "# Average Total.Amount.Paid are higher than good, May be because of fine. But Not a good predictor since he/she already became BAD"
   ]
  },
  {
   "cell_type": "code",
   "execution_count": 528,
   "metadata": {},
   "outputs": [
    {
     "data": {
      "text/html": [
       "<div>\n",
       "<style scoped>\n",
       "    .dataframe tbody tr th:only-of-type {\n",
       "        vertical-align: middle;\n",
       "    }\n",
       "\n",
       "    .dataframe tbody tr th {\n",
       "        vertical-align: top;\n",
       "    }\n",
       "\n",
       "    .dataframe thead th {\n",
       "        text-align: right;\n",
       "    }\n",
       "</style>\n",
       "<table border=\"1\" class=\"dataframe\">\n",
       "  <thead>\n",
       "    <tr style=\"text-align: right;\">\n",
       "      <th></th>\n",
       "      <th>Principal.Advance.Remaining</th>\n",
       "    </tr>\n",
       "    <tr>\n",
       "      <th>pymt_standing</th>\n",
       "      <th></th>\n",
       "    </tr>\n",
       "  </thead>\n",
       "  <tbody>\n",
       "    <tr>\n",
       "      <th>Active - Bad Standing</th>\n",
       "      <td>92135.317763</td>\n",
       "    </tr>\n",
       "    <tr>\n",
       "      <th>Active - Good Standing</th>\n",
       "      <td>88981.421738</td>\n",
       "    </tr>\n",
       "    <tr>\n",
       "      <th>Closed - Obligations met</th>\n",
       "      <td>0.098000</td>\n",
       "    </tr>\n",
       "    <tr>\n",
       "      <th>All</th>\n",
       "      <td>81851.054026</td>\n",
       "    </tr>\n",
       "  </tbody>\n",
       "</table>\n",
       "</div>"
      ],
      "text/plain": [
       "                          Principal.Advance.Remaining\n",
       "pymt_standing                                        \n",
       "Active - Bad Standing                    92135.317763\n",
       "Active - Good Standing                   88981.421738\n",
       "Closed - Obligations met                     0.098000\n",
       "All                                      81851.054026"
      ]
     },
     "execution_count": 528,
     "metadata": {},
     "output_type": "execute_result"
    }
   ],
   "source": [
    "# Principal.Advance.Remaining\n",
    "pd.pivot_table(data=EDA_df,index=\"pymt_standing\",values=\"Principal.Advance.Remaining\",aggfunc=\"mean\",margins=True)\n",
    "\n"
   ]
  },
  {
   "cell_type": "code",
   "execution_count": 529,
   "metadata": {},
   "outputs": [
    {
     "data": {
      "text/html": [
       "<div>\n",
       "<style scoped>\n",
       "    .dataframe tbody tr th:only-of-type {\n",
       "        vertical-align: middle;\n",
       "    }\n",
       "\n",
       "    .dataframe tbody tr th {\n",
       "        vertical-align: top;\n",
       "    }\n",
       "\n",
       "    .dataframe thead th {\n",
       "        text-align: right;\n",
       "    }\n",
       "</style>\n",
       "<table border=\"1\" class=\"dataframe\">\n",
       "  <thead>\n",
       "    <tr style=\"text-align: right;\">\n",
       "      <th>Marital.status</th>\n",
       "      <th>Divorcee</th>\n",
       "      <th>Married</th>\n",
       "      <th>Single</th>\n",
       "      <th>Widower</th>\n",
       "      <th>All</th>\n",
       "    </tr>\n",
       "    <tr>\n",
       "      <th>pymt_standing</th>\n",
       "      <th></th>\n",
       "      <th></th>\n",
       "      <th></th>\n",
       "      <th></th>\n",
       "      <th></th>\n",
       "    </tr>\n",
       "  </thead>\n",
       "  <tbody>\n",
       "    <tr>\n",
       "      <th>Active - Bad Standing</th>\n",
       "      <td>1.0</td>\n",
       "      <td>162.0</td>\n",
       "      <td>141.0</td>\n",
       "      <td>NaN</td>\n",
       "      <td>304</td>\n",
       "    </tr>\n",
       "    <tr>\n",
       "      <th>Active - Good Standing</th>\n",
       "      <td>4.0</td>\n",
       "      <td>724.0</td>\n",
       "      <td>782.0</td>\n",
       "      <td>3.0</td>\n",
       "      <td>1513</td>\n",
       "    </tr>\n",
       "    <tr>\n",
       "      <th>Closed - Obligations met</th>\n",
       "      <td>NaN</td>\n",
       "      <td>82.0</td>\n",
       "      <td>88.0</td>\n",
       "      <td>NaN</td>\n",
       "      <td>170</td>\n",
       "    </tr>\n",
       "    <tr>\n",
       "      <th>All</th>\n",
       "      <td>5.0</td>\n",
       "      <td>968.0</td>\n",
       "      <td>1011.0</td>\n",
       "      <td>3.0</td>\n",
       "      <td>1987</td>\n",
       "    </tr>\n",
       "  </tbody>\n",
       "</table>\n",
       "</div>"
      ],
      "text/plain": [
       "Marital.status            Divorcee  Married  Single  Widower   All\n",
       "pymt_standing                                                     \n",
       "Active - Bad Standing          1.0    162.0   141.0      NaN   304\n",
       "Active - Good Standing         4.0    724.0   782.0      3.0  1513\n",
       "Closed - Obligations met       NaN     82.0    88.0      NaN   170\n",
       "All                            5.0    968.0  1011.0      3.0  1987"
      ]
     },
     "execution_count": 529,
     "metadata": {},
     "output_type": "execute_result"
    }
   ],
   "source": [
    "# Marital.status\n",
    "pd.pivot_table(data=EDA_df[[\"Marital.status\",\"pymt_standing\",\"Application.ID\"]],index=\"pymt_standing\",columns=\"Marital.status\",values=\"Application.ID\",aggfunc=\"count\",margins=True)"
   ]
  },
  {
   "cell_type": "code",
   "execution_count": 530,
   "metadata": {},
   "outputs": [
    {
     "data": {
      "text/html": [
       "<div>\n",
       "<style scoped>\n",
       "    .dataframe tbody tr th:only-of-type {\n",
       "        vertical-align: middle;\n",
       "    }\n",
       "\n",
       "    .dataframe tbody tr th {\n",
       "        vertical-align: top;\n",
       "    }\n",
       "\n",
       "    .dataframe thead th {\n",
       "        text-align: right;\n",
       "    }\n",
       "</style>\n",
       "<table border=\"1\" class=\"dataframe\">\n",
       "  <thead>\n",
       "    <tr style=\"text-align: right;\">\n",
       "      <th>Residential.status</th>\n",
       "      <th>Company Quarters</th>\n",
       "      <th>Hostel</th>\n",
       "      <th>Paying Guest</th>\n",
       "      <th>Paying Guest/Shared Accommodation</th>\n",
       "      <th>Rented</th>\n",
       "      <th>Self or spouse owned</th>\n",
       "      <th>Shared Accommodation</th>\n",
       "      <th>Staying with Parents</th>\n",
       "      <th>All</th>\n",
       "    </tr>\n",
       "    <tr>\n",
       "      <th>pymt_standing</th>\n",
       "      <th></th>\n",
       "      <th></th>\n",
       "      <th></th>\n",
       "      <th></th>\n",
       "      <th></th>\n",
       "      <th></th>\n",
       "      <th></th>\n",
       "      <th></th>\n",
       "      <th></th>\n",
       "    </tr>\n",
       "  </thead>\n",
       "  <tbody>\n",
       "    <tr>\n",
       "      <th>Active - Bad Standing</th>\n",
       "      <td>11.0</td>\n",
       "      <td>NaN</td>\n",
       "      <td>4.0</td>\n",
       "      <td>NaN</td>\n",
       "      <td>175.0</td>\n",
       "      <td>48.0</td>\n",
       "      <td>1.0</td>\n",
       "      <td>65.0</td>\n",
       "      <td>304</td>\n",
       "    </tr>\n",
       "    <tr>\n",
       "      <th>Active - Good Standing</th>\n",
       "      <td>36.0</td>\n",
       "      <td>5.0</td>\n",
       "      <td>37.0</td>\n",
       "      <td>NaN</td>\n",
       "      <td>786.0</td>\n",
       "      <td>262.0</td>\n",
       "      <td>15.0</td>\n",
       "      <td>372.0</td>\n",
       "      <td>1513</td>\n",
       "    </tr>\n",
       "    <tr>\n",
       "      <th>Closed - Obligations met</th>\n",
       "      <td>1.0</td>\n",
       "      <td>1.0</td>\n",
       "      <td>1.0</td>\n",
       "      <td>2.0</td>\n",
       "      <td>100.0</td>\n",
       "      <td>25.0</td>\n",
       "      <td>3.0</td>\n",
       "      <td>37.0</td>\n",
       "      <td>170</td>\n",
       "    </tr>\n",
       "    <tr>\n",
       "      <th>All</th>\n",
       "      <td>48.0</td>\n",
       "      <td>6.0</td>\n",
       "      <td>42.0</td>\n",
       "      <td>2.0</td>\n",
       "      <td>1061.0</td>\n",
       "      <td>335.0</td>\n",
       "      <td>19.0</td>\n",
       "      <td>474.0</td>\n",
       "      <td>1987</td>\n",
       "    </tr>\n",
       "  </tbody>\n",
       "</table>\n",
       "</div>"
      ],
      "text/plain": [
       "Residential.status        Company Quarters  Hostel  Paying Guest  \\\n",
       "pymt_standing                                                      \n",
       "Active - Bad Standing                 11.0     NaN           4.0   \n",
       "Active - Good Standing                36.0     5.0          37.0   \n",
       "Closed - Obligations met               1.0     1.0           1.0   \n",
       "All                                   48.0     6.0          42.0   \n",
       "\n",
       "Residential.status        Paying Guest/Shared Accommodation  Rented  \\\n",
       "pymt_standing                                                         \n",
       "Active - Bad Standing                                   NaN   175.0   \n",
       "Active - Good Standing                                  NaN   786.0   \n",
       "Closed - Obligations met                                2.0   100.0   \n",
       "All                                                     2.0  1061.0   \n",
       "\n",
       "Residential.status        Self or spouse owned  Shared Accommodation  \\\n",
       "pymt_standing                                                          \n",
       "Active - Bad Standing                     48.0                   1.0   \n",
       "Active - Good Standing                   262.0                  15.0   \n",
       "Closed - Obligations met                  25.0                   3.0   \n",
       "All                                      335.0                  19.0   \n",
       "\n",
       "Residential.status        Staying with Parents   All  \n",
       "pymt_standing                                         \n",
       "Active - Bad Standing                     65.0   304  \n",
       "Active - Good Standing                   372.0  1513  \n",
       "Closed - Obligations met                  37.0   170  \n",
       "All                                      474.0  1987  "
      ]
     },
     "execution_count": 530,
     "metadata": {},
     "output_type": "execute_result"
    }
   ],
   "source": [
    "# Residential.status\n",
    "pd.pivot_table(data=EDA_df[[\"Residential.status\",\"pymt_standing\",\"Application.ID\"]],index=\"pymt_standing\",columns=\"Residential.status\",values=\"Application.ID\",aggfunc=\"count\",margins=True)\n",
    "\n",
    "# Paying Guest Showing  88% good customer\n"
   ]
  },
  {
   "cell_type": "code",
   "execution_count": 531,
   "metadata": {},
   "outputs": [
    {
     "data": {
      "text/html": [
       "<div>\n",
       "<style scoped>\n",
       "    .dataframe tbody tr th:only-of-type {\n",
       "        vertical-align: middle;\n",
       "    }\n",
       "\n",
       "    .dataframe tbody tr th {\n",
       "        vertical-align: top;\n",
       "    }\n",
       "\n",
       "    .dataframe thead th {\n",
       "        text-align: right;\n",
       "    }\n",
       "</style>\n",
       "<table border=\"1\" class=\"dataframe\">\n",
       "  <thead>\n",
       "    <tr style=\"text-align: right;\">\n",
       "      <th>Fee.Set</th>\n",
       "      <th>1-M1</th>\n",
       "      <th>1-M2</th>\n",
       "      <th>1-M3</th>\n",
       "      <th>1-M4</th>\n",
       "      <th>1-M5</th>\n",
       "      <th>1-M6</th>\n",
       "      <th>1-M7</th>\n",
       "      <th>1-M8</th>\n",
       "      <th>Monexo Fee Set</th>\n",
       "      <th>All</th>\n",
       "    </tr>\n",
       "    <tr>\n",
       "      <th>pymt_standing</th>\n",
       "      <th></th>\n",
       "      <th></th>\n",
       "      <th></th>\n",
       "      <th></th>\n",
       "      <th></th>\n",
       "      <th></th>\n",
       "      <th></th>\n",
       "      <th></th>\n",
       "      <th></th>\n",
       "      <th></th>\n",
       "    </tr>\n",
       "  </thead>\n",
       "  <tbody>\n",
       "    <tr>\n",
       "      <th>Active - Bad Standing</th>\n",
       "      <td>7</td>\n",
       "      <td>10</td>\n",
       "      <td>32</td>\n",
       "      <td>14</td>\n",
       "      <td>60</td>\n",
       "      <td>48</td>\n",
       "      <td>45</td>\n",
       "      <td>22</td>\n",
       "      <td>66</td>\n",
       "      <td>304</td>\n",
       "    </tr>\n",
       "    <tr>\n",
       "      <th>Active - Good Standing</th>\n",
       "      <td>27</td>\n",
       "      <td>47</td>\n",
       "      <td>63</td>\n",
       "      <td>97</td>\n",
       "      <td>124</td>\n",
       "      <td>120</td>\n",
       "      <td>74</td>\n",
       "      <td>53</td>\n",
       "      <td>908</td>\n",
       "      <td>1513</td>\n",
       "    </tr>\n",
       "    <tr>\n",
       "      <th>Closed - Obligations met</th>\n",
       "      <td>5</td>\n",
       "      <td>8</td>\n",
       "      <td>16</td>\n",
       "      <td>20</td>\n",
       "      <td>27</td>\n",
       "      <td>33</td>\n",
       "      <td>20</td>\n",
       "      <td>8</td>\n",
       "      <td>33</td>\n",
       "      <td>170</td>\n",
       "    </tr>\n",
       "    <tr>\n",
       "      <th>All</th>\n",
       "      <td>39</td>\n",
       "      <td>65</td>\n",
       "      <td>111</td>\n",
       "      <td>131</td>\n",
       "      <td>211</td>\n",
       "      <td>201</td>\n",
       "      <td>139</td>\n",
       "      <td>83</td>\n",
       "      <td>1007</td>\n",
       "      <td>1987</td>\n",
       "    </tr>\n",
       "  </tbody>\n",
       "</table>\n",
       "</div>"
      ],
      "text/plain": [
       "Fee.Set                   1-M1  1-M2  1-M3  1-M4  1-M5  1-M6  1-M7  1-M8  \\\n",
       "pymt_standing                                                              \n",
       "Active - Bad Standing        7    10    32    14    60    48    45    22   \n",
       "Active - Good Standing      27    47    63    97   124   120    74    53   \n",
       "Closed - Obligations met     5     8    16    20    27    33    20     8   \n",
       "All                         39    65   111   131   211   201   139    83   \n",
       "\n",
       "Fee.Set                   Monexo Fee Set   All  \n",
       "pymt_standing                                   \n",
       "Active - Bad Standing                 66   304  \n",
       "Active - Good Standing               908  1513  \n",
       "Closed - Obligations met              33   170  \n",
       "All                                 1007  1987  "
      ]
     },
     "execution_count": 531,
     "metadata": {},
     "output_type": "execute_result"
    }
   ],
   "source": [
    "# Fee.Set\n",
    "pd.pivot_table(data=EDA_df[[\"Fee.Set\",\"pymt_standing\",\"Application.ID\"]],index=\"pymt_standing\",columns=\"Fee.Set\",values=\"Application.ID\",aggfunc=\"count\",margins=True)\n",
    "\n",
    "# 90% from monexo fee set are good customers."
   ]
  },
  {
   "cell_type": "code",
   "execution_count": 532,
   "metadata": {},
   "outputs": [],
   "source": [
    "# Checking Correlation for Numeric columns\n",
    "corr_df = EDA_df[[\"Loan.Amount\",\"Payment.Amount\",\"Interest.Paid\",\"Principal.Advance.Paid\",\"Salary.Income.current.month\"]]"
   ]
  },
  {
   "cell_type": "code",
   "execution_count": 533,
   "metadata": {},
   "outputs": [],
   "source": [
    "import seaborn as sns"
   ]
  },
  {
   "cell_type": "code",
   "execution_count": 534,
   "metadata": {},
   "outputs": [],
   "source": [
    "corr_plot = corr_df.corr()"
   ]
  },
  {
   "cell_type": "code",
   "execution_count": 535,
   "metadata": {},
   "outputs": [
    {
     "data": {
      "text/plain": [
       "<matplotlib.axes._subplots.AxesSubplot at 0x1f9ed6d8710>"
      ]
     },
     "execution_count": 535,
     "metadata": {},
     "output_type": "execute_result"
    },
    {
     "data": {
      "image/png": "[encoded data removed]",
      "text/plain": [
       "<matplotlib.figure.Figure at 0x1f9ed6d8390>"
      ]
     },
     "metadata": {},
     "output_type": "display_data"
    }
   ],
   "source": [
    "plt.Figure(figsize=(14,14))\n",
    "sns.heatmap(corr_plot,cbar=True,square=True,annot=True,cmap=\"coolwarm\")"
   ]
  },
  {
   "cell_type": "code",
   "execution_count": null,
   "metadata": {},
   "outputs": [],
   "source": []
  },
  {
   "cell_type": "code",
   "execution_count": 536,
   "metadata": {},
   "outputs": [],
   "source": [
    "model_df = EDA_df[[\"Socialmedia_verified\",\"Gender\",\"Education.Level\",\"CL.Purpose..Name\",\"pymt_standing\",\"CRIF.S1.Score\",\"Loan.Amount\",\"Payment.Amount\",\"Interest.Paid\",\"Principal.Advance.Paid\",\"Salary.Income.current.month\",\"Marital.status\",\"Total.years.of.experience.in.Employment.\",\"Residential.status\",\"Fee.Set\",\"Submission_Duration\",\"Debt.service.ratio\"]]"
   ]
  },
  {
   "cell_type": "markdown",
   "metadata": {},
   "source": [
    "Splitting Data for Medel Preparation"
   ]
  },
  {
   "cell_type": "code",
   "execution_count": 537,
   "metadata": {},
   "outputs": [],
   "source": [
    "from sklearn.model_selection import train_test_split\n",
    "from sklearn.utils import shuffle"
   ]
  },
  {
   "cell_type": "code",
   "execution_count": 538,
   "metadata": {},
   "outputs": [],
   "source": [
    "# shuffling data frame\n",
    "model_df = shuffle(model_df)\n"
   ]
  },
  {
   "cell_type": "code",
   "execution_count": 539,
   "metadata": {},
   "outputs": [
    {
     "name": "stdout",
     "output_type": "stream",
     "text": [
      "1817\n"
     ]
    },
    {
     "data": {
      "text/plain": [
       "Active - Good Standing    1513\n",
       "Active - Bad Standing      304\n",
       "Name: pymt_standing, dtype: int64"
      ]
     },
     "execution_count": 539,
     "metadata": {},
     "output_type": "execute_result"
    }
   ],
   "source": [
    "# We have 170 Closed obligation, we don't need this because we don't know whether they defaulted and rolled back later.\n",
    "model_df = model_df.loc[model_df[\"pymt_standing\"]!=\"Closed - Obligations met\",]\n",
    "print(len(model_df.pymt_standing))\n",
    "Frequency_count(model_df.pymt_standing)"
   ]
  },
  {
   "cell_type": "code",
   "execution_count": 540,
   "metadata": {},
   "outputs": [
    {
     "data": {
      "text/plain": [
       "1.0    1513\n",
       "0.0     304\n",
       "Name: Target, dtype: int64"
      ]
     },
     "execution_count": 540,
     "metadata": {},
     "output_type": "execute_result"
    }
   ],
   "source": [
    "# converting to numeric format\n",
    "model_df.loc[model_df[\"pymt_standing\"]==\"Active - Good Standing\",\"Target\"] = 1\n",
    "model_df.loc[model_df[\"pymt_standing\"]==\"Active - Bad Standing\",\"Target\"] = 0\n",
    "model_df.drop(\"pymt_standing\",axis=1,inplace=True)\n",
    "Frequency_count(model_df.Target)"
   ]
  },
  {
   "cell_type": "code",
   "execution_count": 542,
   "metadata": {},
   "outputs": [],
   "source": [
    "X=model_df.drop(\"Target\",axis=1)\n",
    "Y=model_df[\"Target\"]"
   ]
  },
  {
   "cell_type": "code",
   "execution_count": null,
   "metadata": {},
   "outputs": [],
   "source": []
  },
  {
   "cell_type": "code",
   "execution_count": 545,
   "metadata": {},
   "outputs": [],
   "source": [
    "df_cat = [\"Gender\",\"Education.Level\",\"CL.Purpose..Name\",\"Marital.status\",\"Residential.status\",\"Fee.Set\"]\n",
    "from sklearn import preprocessing\n",
    "le = preprocessing.LabelEncoder()\n",
    "X[df_cat] = X[df_cat].apply(le.fit_transform)"
   ]
  },
  {
   "cell_type": "code",
   "execution_count": 546,
   "metadata": {},
   "outputs": [],
   "source": [
    "x_train,x_test,y_train,y_test = train_test_split(X,Y,test_size=0.2,random_state=10)"
   ]
  },
  {
   "cell_type": "code",
   "execution_count": null,
   "metadata": {},
   "outputs": [],
   "source": []
  },
  {
   "cell_type": "markdown",
   "metadata": {},
   "source": [
    "# Modelling  Using Random Forest"
   ]
  },
  {
   "cell_type": "code",
   "execution_count": 548,
   "metadata": {},
   "outputs": [],
   "source": [
    "# RandomForest Algorithm is used. More the number of tree bettr the model and Rnadom forest is stable than  any other model.\n",
    "\n",
    "# Default Hyper-parameters,# Defaul \n",
    "from sklearn.ensemble import RandomForestClassifier"
   ]
  },
  {
   "cell_type": "code",
   "execution_count": 550,
   "metadata": {},
   "outputs": [
    {
     "data": {
      "text/plain": [
       "RandomForestClassifier(bootstrap=True, class_weight=None, criterion='gini',\n",
       "            max_depth=None, max_features='auto', max_leaf_nodes=None,\n",
       "            min_impurity_decrease=0.0, min_impurity_split=None,\n",
       "            min_samples_leaf=1, min_samples_split=2,\n",
       "            min_weight_fraction_leaf=0.0, n_estimators=10, n_jobs=1,\n",
       "            oob_score=False, random_state=None, verbose=0,\n",
       "            warm_start=False)"
      ]
     },
     "execution_count": 550,
     "metadata": {},
     "output_type": "execute_result"
    }
   ],
   "source": [
    "model_default  = RandomForestClassifier()\n",
    "model_default.fit(x_train,y_train)"
   ]
  },
  {
   "cell_type": "code",
   "execution_count": 551,
   "metadata": {},
   "outputs": [],
   "source": [
    "# Making predictions\n",
    "predict_default = model_default.predict(x_test)"
   ]
  },
  {
   "cell_type": "code",
   "execution_count": 552,
   "metadata": {},
   "outputs": [],
   "source": [
    "# Evaluation metrics\n",
    "from sklearn.metrics import confusion_matrix,accuracy_score,classification_report"
   ]
  },
  {
   "cell_type": "code",
   "execution_count": 553,
   "metadata": {},
   "outputs": [
    {
     "name": "stdout",
     "output_type": "stream",
     "text": [
      "             precision    recall  f1-score   support\n",
      "\n",
      "        0.0       0.61      0.44      0.51        63\n",
      "        1.0       0.89      0.94      0.91       301\n",
      "\n",
      "avg / total       0.84      0.85      0.85       364\n",
      "\n",
      "\n",
      "Confusion Matrix\n",
      " [[ 28  35]\n",
      " [ 18 283]]\n",
      "\n",
      "Accuracy is 0.8543956043956044\n"
     ]
    }
   ],
   "source": [
    "print(classification_report(y_test,predict_default))\n",
    "print(\"\\nConfusion Matrix\\n\",confusion_matrix(y_test,predict_default))\n",
    "print(\"\\nAccuracy is\",accuracy_score(y_test,predict_default))"
   ]
  },
  {
   "cell_type": "code",
   "execution_count": 556,
   "metadata": {},
   "outputs": [],
   "source": [
    "#  All the Hyper-Parameters which we can use for Decision tree algorithms can also be tuned here, Like min sample split, min sample leaf,\n",
    "#  Max Depth of tree, Max leaf nodes, etc.\n",
    "\n",
    "#  Apart from that we are going to tune Decision tree hyper-parameters. number of trees,\n",
    "#  Number of attribute to be used at nodes for splitting.\n",
    "from sklearn.model_selection import KFold\n",
    "from sklearn.model_selection import GridSearchCV"
   ]
  },
  {
   "cell_type": "code",
   "execution_count": 557,
   "metadata": {},
   "outputs": [
    {
     "name": "stdout",
     "output_type": "stream",
     "text": [
      "Fitting 5 folds for each of 48 candidates, totalling 240 fits\n"
     ]
    },
    {
     "name": "stderr",
     "output_type": "stream",
     "text": [
      "[Parallel(n_jobs=1)]: Done 240 out of 240 | elapsed:  1.2min finished\n"
     ]
    },
    {
     "data": {
      "text/plain": [
       "GridSearchCV(cv=5, error_score='raise',\n",
       "       estimator=RandomForestClassifier(bootstrap=True, class_weight=None, criterion='gini',\n",
       "            max_depth=None, max_features='auto', max_leaf_nodes=None,\n",
       "            min_impurity_decrease=0.0, min_impurity_split=None,\n",
       "            min_samples_leaf=1, min_samples_split=2,\n",
       "            min_weight_fraction_leaf=0.0, n_estimators=10, n_jobs=1,\n",
       "            oob_score=False, random_state=20, verbose=0, warm_start=False),\n",
       "       fit_params=None, iid=True, n_jobs=1,\n",
       "       param_grid={'max_depth': range(5, 13, 5), 'min_samples_split': range(20, 50, 20), 'min_samples_leaf': range(20, 50, 20), 'max_features': range(4, 7, 2), 'n_estimators': range(60, 101, 20)},\n",
       "       pre_dispatch='2*n_jobs', refit=True, return_train_score='warn',\n",
       "       scoring='accuracy', verbose=1)"
      ]
     },
     "execution_count": 557,
     "metadata": {},
     "output_type": "execute_result"
    }
   ],
   "source": [
    "model_tune = RandomForestClassifier(random_state=20)\n",
    "parameters = {\"max_depth\":range(5,13,5),\n",
    "              \"min_samples_split\":range(20,50,20),\n",
    "              \"min_samples_leaf\":range(20,50,20),\n",
    "              \"max_features\":range(4,7,2),\n",
    "              \"n_estimators\":range(60,101,20)}\n",
    "nFolds = 5\n",
    "\n",
    "model_rf = GridSearchCV(estimator=model_tune,param_grid=parameters,scoring=\"accuracy\",cv=nFolds,verbose=1)\n",
    "model_rf.fit(x_train,y_train)"
   ]
  },
  {
   "cell_type": "code",
   "execution_count": 560,
   "metadata": {},
   "outputs": [
    {
     "data": {
      "text/plain": [
       "{'max_depth': 10,\n",
       " 'max_features': 6,\n",
       " 'min_samples_leaf': 20,\n",
       " 'min_samples_split': 20,\n",
       " 'n_estimators': 60}"
      ]
     },
     "execution_count": 560,
     "metadata": {},
     "output_type": "execute_result"
    }
   ],
   "source": [
    "model_rf.best_params_"
   ]
  },
  {
   "cell_type": "code",
   "execution_count": 561,
   "metadata": {},
   "outputs": [],
   "source": [
    "# So build the tree based on these params and check scores."
   ]
  },
  {
   "cell_type": "code",
   "execution_count": 564,
   "metadata": {},
   "outputs": [
    {
     "data": {
      "text/plain": [
       "RandomForestClassifier(bootstrap=True, class_weight=None, criterion='gini',\n",
       "            max_depth=10, max_features=6, max_leaf_nodes=None,\n",
       "            min_impurity_decrease=0.0, min_impurity_split=None,\n",
       "            min_samples_leaf=20, min_samples_split=20,\n",
       "            min_weight_fraction_leaf=0.0, n_estimators=60, n_jobs=1,\n",
       "            oob_score=False, random_state=20, verbose=0, warm_start=False)"
      ]
     },
     "execution_count": 564,
     "metadata": {},
     "output_type": "execute_result"
    }
   ],
   "source": [
    "model_tuned = RandomForestClassifier(max_depth=10,max_features=6,min_samples_leaf=20,min_samples_split=20,n_estimators=60,random_state=20)\n",
    "model_tuned.fit(x_train,y_train)\n"
   ]
  },
  {
   "cell_type": "code",
   "execution_count": 565,
   "metadata": {},
   "outputs": [],
   "source": [
    "# Prediction on model_tuned\n",
    "predict_tuned = model_tuned.predict(x_test)"
   ]
  },
  {
   "cell_type": "code",
   "execution_count": 566,
   "metadata": {},
   "outputs": [
    {
     "name": "stdout",
     "output_type": "stream",
     "text": [
      "             precision    recall  f1-score   support\n",
      "\n",
      "        0.0       1.00      0.30      0.46        63\n",
      "        1.0       0.87      1.00      0.93       301\n",
      "\n",
      "avg / total       0.89      0.88      0.85       364\n",
      "\n",
      "\n",
      "Confusion Matrix\n",
      " [[ 19  44]\n",
      " [  0 301]]\n",
      "\n",
      "Accuracy is 0.8791208791208791\n"
     ]
    }
   ],
   "source": [
    "print(classification_report(y_test,predict_tuned))\n",
    "print(\"\\nConfusion Matrix\\n\",confusion_matrix(y_test,predict_tuned))\n",
    "print(\"\\nAccuracy is\",accuracy_score(y_test,predict_tuned))"
   ]
  },
  {
   "cell_type": "code",
   "execution_count": 568,
   "metadata": {},
   "outputs": [
    {
     "data": {
      "text/plain": [
       "1.0    345\n",
       "0.0     19\n",
       "dtype: int64"
      ]
     },
     "execution_count": 568,
     "metadata": {},
     "output_type": "execute_result"
    }
   ],
   "source": [
    "pd.Series(predict_tuned).value_counts()"
   ]
  }
 ],
 "metadata": {
  "kernelspec": {
   "display_name": "Python 3",
   "language": "python",
   "name": "python3"
  },
  "language_info": {
   "codemirror_mode": {
    "name": "ipython",
    "version": 3
   },
   "file_extension": ".py",
   "mimetype": "text/x-python",
   "name": "python",
   "nbconvert_exporter": "python",
   "pygments_lexer": "ipython3",
   "version": "3.6.4"
  }
 },
 "nbformat": 4,
 "nbformat_minor": 2
}
